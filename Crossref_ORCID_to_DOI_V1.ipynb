{
 "cells": [
  {
   "cell_type": "markdown",
   "metadata": {
    "id": "k6HfuEZe48LV"
   },
   "source": [
    "## Query Crossref for works authored by a person\n",
    "This notebook queries the [Crossref API](http://api.crossref.org) via its `'/works'` endpoint for works authored by a person and there funders. It takes a list of ORCID IDs as input which is used to filter for all works where one of the authors' `orcid` field matches one of the given ORCID iD. \n",
    "From the resulting list of works we output all DOIs and their titles"
   ]
  },
  {
   "cell_type": "code",
   "execution_count": 1,
   "metadata": {
    "id": "aV_HkXxJ4pVB",
    "scrolled": true
   },
   "outputs": [],
   "source": [
    "# Prerequisites:\n",
    "import requests                        # dependency to make HTTP calls\n",
    "from habanero import Crossref          # lib for querying crossref api"
   ]
  },
  {
   "cell_type": "code",
   "execution_count": 2,
   "metadata": {},
   "outputs": [],
   "source": [
    "# input list of ORCID IDs\n",
    "list_of_ids=[\"0000-0001-5380-4449\",       \n",
    "\"0000-0001-5406-9458\",\n",
    "\"0000-0001-5449-4593\",\n",
    "\"0000-0003-4939-1666\",\n",
    "\"0000-0003-4971-9991\",]"
   ]
  },
  {
   "cell_type": "markdown",
   "metadata": {
    "id": "uYK5apGy6i4f"
   },
   "source": [
    "We use it to query the Crossref API via its '`/works`' endpoint and set a filter for the `orcid` field to match the given ORCID iD. "
   ]
  },
  {
   "cell_type": "code",
   "execution_count": 3,
   "metadata": {
    "executionInfo": {
     "elapsed": 485,
     "status": "ok",
     "timestamp": 1643057866151,
     "user": {
      "displayName": "Sandra M",
      "photoUrl": "https://lh3.googleusercontent.com/a-/AOh14GjjehryRcYlqHNFf_9Q6slGN_VZPE0y5QkvOxzG=s64",
      "userId": "04602594913862593282"
     },
     "user_tz": -60
    },
    "id": "AIuILzlS6zv9"
   },
   "outputs": [],
   "source": [
    "def search(orcid_id):\n",
    "    list_of_pages=Crossref().works(filter = {'orcid': orcid_id}, cursor = \"*\", select = \"DOI,title\")  \n",
    "    for page in list_of_pages:\n",
    "        for item in page['message']['items']:\n",
    "            print(f\"{item['DOI']}, {item['title'][0]}\")     \n",
    "            "
   ]
  },
  {
   "cell_type": "code",
   "execution_count": 4,
   "metadata": {
    "scrolled": true
   },
   "outputs": [
    {
     "name": "stdout",
     "output_type": "stream",
     "text": [
      "10.1007/s11553-022-00940-6, Prävention von berufsbedingtem Hautkrebs bei Beschäftigten im Freien: Entwicklung eines Curriculums zur Fortbildung von Multiplikator*innen\n",
      "10.1111/cod.14206, Prevention of occupational hand eczema in healthcare workers during the COVID‐19 pandemic: A controlled intervention study\n",
      "10.2196/preprints.31980, Expressiveness of an International Semantic Standard for Wound Care: Mapping a Standardized Item Set for Leg Ulcers to the Systematized Nomenclature of Medicine–Clinical Terms (Preprint)\n",
      "10.1007/s11553-020-00799-5, Prävention berufsbedingter Erkrankungen durch Lehrkräfte\n",
      "10.1111/cod.14123, Effects and acceptance of semipermeable gloves compared to cotton gloves in patients with hand dermatoses: Results of a controlled intervention study\n",
      "10.1111/cod.13929, Acceptance of semipermeable glove liners compared to cotton glove liners in health care workers with work‐related skin diseases: Results of a quasi‐randomized trial under real workplace conditions\n",
      "10.1111/jam.15399, Novel insights into pivotal risk factors for rectal carriage of extended‐spectrum‐β‐lactamase‐producing enterobacterales within the general population in Lower Saxony, Germany\n",
      "10.1111/cod.13719, Degree of employment, sick leave, and costs following notification of occupational contact dermatitis—A register‐based study\n",
      "10.1111/cod.14107, Nickel and cobalt release from beauty tools: A field study in the German cosmetics trade\n",
      "10.1111/cod.14055, Differences between hairdressers and consumers in skin exposure to hair cosmetic products: A review\n",
      "10.1016/j.orthtr.2022.03.012, Influence of physical activity on well-being at times of the COVID-19 pandemic: a review\n",
      "10.1111/cod.14119, Effects of skin washing frequency on the epidermal barrier function and inflammatory processes of the epidermis: An experimental study\n",
      "10.1136/bmjopen-2022-062194, Prevalence and incidence of hand eczema in healthcare workers: protocol for a systematic review and meta-analysis\n",
      "10.1111/cod.14236, Systematic review on skin adverse effects of important hazardous hair cosmetic ingredients with a focus on hairdressers\n",
      "10.2196/31980, Expressiveness of an International Semantic Standard for Wound Care: Mapping a Standardized Item Set for Leg Ulcers to the Systematized Nomenclature of Medicine–Clinical Terms\n",
      "10.3390/cancers12082111, MicroRNA-21-Enriched Exosomes as Epigenetic Regulators in Melanomagenesis and Melanoma Progression: The Impact of Western Lifestyle Factors\n",
      "10.1111/bjd.19152, Global evidence on occupational sun exposure and keratinocyte cancers: a systematic review\n",
      "10.3390/en13226035, A One-Month Monitoring of Exposure to Solar UV Radiation of a Group of Construction Workers in Tuscany\n",
      "10.1111/jdv.17011, Improved protection of outdoor workers from solar ultraviolet radiation: position statement\n",
      "10.1111/cod.14048, Prevalence and incidence of hand eczema in hairdressers—A systematic review and meta‐analysis of the published literature from 2000–2021\n",
      "10.3390/ijerph19074176, Occupational Exposure of Hairdressers to Airborne Hazardous Chemicals: A Scoping Review\n",
      "10.1111/jdv.17058, Experimental evaluation of nickel and cobalt release from tools and self‐reported prevalence of nickel and cobalt allergy in the German hairdressing trade\n",
      "10.1111/cod.14099, Evaluation of the secondary and tertiary prevention strategies against occupational contact dermatitis in Germany: A systematic review\n",
      "10.1111/cod.14242, Bleaching powders, bleaching creams and other hair lightening preparations as sources for (airborne) allergic contact dermatitis and other health effects in hairdressers: Results of an empirical study\n",
      "10.1155/2021/5558694, UV-Induced Skin Cancer Knowledge, Sun Exposure, and Tanning Behavior among University Students: Investigation of an Opportunity Sample of German University Students\n",
      "10.1093/occmed/kqac046, Acceptance of skin products in healthcare workers: an empirical investigation\n",
      "10.1111/cod.14056, Allergic contact dermatitis caused by 2‐hydroxyethyl methacrylate and ethyl cyanoacrylate contained in cosmetic glues among hairdressers and beauticians who perform nail treatments and eyelash extension as well as hair extension applications: A systematic review\n",
      "10.1111/cod.13910, Incidence rates of occupational contact dermatitis in Denmark between 2007 and 2018: A population‐based study\n",
      "10.3390/ijms19082186, The Small Yeast GTPase Rho5 and Its Dimeric GEF Dck1/Lmo1 Respond to Glucose Starvation\n",
      "10.3390/ijms20225550, Analysis of Functional Domains in Rho5, the Yeast Homolog of Human Rac1 GTPase, in Oxidative Stress Response\n",
      "10.1371/journal.pone.0223374, Analysis of the protein composition of the spindle pole body during sporulation in Ashbya gossypii\n",
      "10.3390/land10020149, Soil Protection in Floodplains—A Review\n",
      "10.1016/j.flora.2020.151602, Evolutionary history of the Eurasian steppe plant Schivereckia podolica (Brassicaceae) and its close relatives\n",
      "10.1002/ece3.8015, Pleistocene dynamics of the Eurasian steppe as a driving force of evolution: Phylogenetic history of the genus\n",
      "            <i>Capsella</i>\n",
      "            (Brassicaceae)\n",
      "10.1002/ece3.7217, A story from the Miocene: Clock‐dated phylogeny of\n",
      "            <i>Sisymbrium</i>\n",
      "            L. (Sisymbrieae, Brassicaceae)\n",
      "10.1105/tpc.19.00551, A Similar Genetic Architecture Underlies the Convergent Evolution of the Selfing Syndrome in <i>Capsella</i>\n"
     ]
    }
   ],
   "source": [
    "# Main programm\n",
    "\n",
    "for item in list_of_ids:\n",
    "    search(item)\n",
    "    "
   ]
  }
 ],
 "metadata": {
  "colab": {
   "authorship_tag": "ABX9TyN8GdEZ2emA2pb1j6K+9PwP",
   "name": "crossref_get_works_by_person.ipynb",
   "provenance": [
    {
     "file_id": "1RvDBYtHIK8LG_31cmfKW2PxQ3whxondX",
     "timestamp": 1643057922530
    }
   ]
  },
  "kernelspec": {
   "display_name": "Python 3 (ipykernel)",
   "language": "python",
   "name": "python3"
  },
  "language_info": {
   "codemirror_mode": {
    "name": "ipython",
    "version": 3
   },
   "file_extension": ".py",
   "mimetype": "text/x-python",
   "name": "python",
   "nbconvert_exporter": "python",
   "pygments_lexer": "ipython3",
   "version": "3.9.13"
  }
 },
 "nbformat": 4,
 "nbformat_minor": 4
}
