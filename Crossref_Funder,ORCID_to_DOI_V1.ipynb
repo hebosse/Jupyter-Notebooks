{
 "cells": [
  {
   "cell_type": "markdown",
   "metadata": {
    "id": "k6HfuEZe48LV"
   },
   "source": [
    "## Query Crossref for works and there funder authored by a person\n",
    "This notebook queries the [Crossref API](http://api.crossref.org) via its `'/works'` endpoint for works authored by a person and there funders. It takes a list of ORCID IDs as input which is used to filter for all works where one of the authors' `orcid` field matches one of the given ORCID iD. Secondly we search either for a specific funder via the filter `funder'` or for all funder via the filter `has_funder`.\n",
    "From the resulting list of works we output all DOIs and their titles"
   ]
  },
  {
   "cell_type": "markdown",
   "metadata": {},
   "source": [
    "#### Examples of funder_ids\n",
    "\n",
    "DFG = http://dx.doi.org/10.13039/501100001659 \n",
    "\n",
    "Volkswagen foundation = http://dx.doi.org/10.13039/501100001663\n",
    "\n",
    "BMBF = http://dx.doi.org/10.13039/501100002347 "
   ]
  },
  {
   "cell_type": "code",
   "execution_count": 1,
   "metadata": {
    "id": "aV_HkXxJ4pVB",
    "scrolled": true
   },
   "outputs": [],
   "source": [
    "# Prerequisites:\n",
    "import requests                        # dependency to make HTTP calls\n",
    "from habanero import Crossref          # lib for querying crossref api"
   ]
  },
  {
   "cell_type": "markdown",
   "metadata": {},
   "source": [
    "If you want to search for all funder, don't enter a funder ID in the field funder_id"
   ]
  },
  {
   "cell_type": "code",
   "execution_count": 2,
   "metadata": {},
   "outputs": [],
   "source": [
    "# input parameter funder ID\n",
    "funder_id=\"\""
   ]
  },
  {
   "cell_type": "code",
   "execution_count": 3,
   "metadata": {},
   "outputs": [],
   "source": [
    "# input list of ORCID IDs\n",
    "list_of_ids=[\"0000-0001-5380-4449\",       \n",
    "\"0000-0001-5406-9458\",\n",
    "\"0000-0001-5449-4593\",\n",
    "\"0000-0003-4939-1666\",\n",
    "\"0000-0003-4971-9991\",]"
   ]
  },
  {
   "cell_type": "markdown",
   "metadata": {
    "id": "uYK5apGy6i4f"
   },
   "source": [
    "First, we use it to query the Crossref API via its '`/works`' endpoint and set a filter for the `orcid` field to match the given ORCID iD. \n",
    "Second, we use the filter for `funder`, in search for a specific funder or the filter `has_funder` in case we want all funders."
   ]
  },
  {
   "cell_type": "code",
   "execution_count": 4,
   "metadata": {
    "executionInfo": {
     "elapsed": 485,
     "status": "ok",
     "timestamp": 1643057866151,
     "user": {
      "displayName": "Sandra M",
      "photoUrl": "https://lh3.googleusercontent.com/a-/AOh14GjjehryRcYlqHNFf_9Q6slGN_VZPE0y5QkvOxzG=s64",
      "userId": "04602594913862593282"
     },
     "user_tz": -60
    },
    "id": "AIuILzlS6zv9"
   },
   "outputs": [],
   "source": [
    "def search_allFunder(orcid_id):\n",
    "    global list_of_pages\n",
    "    list_of_pages=Crossref().works(filter = {'has_funder': True, 'orcid': orcid_id}, cursor = \"*\", select = \"DOI,title\")   #,author  Erstellung der Liste\n",
    "    for page in list_of_pages:\n",
    "        for item in page['message']['items']:\n",
    "            print(f\"{item['DOI']}, {item['title'][0]}\")     \n",
    "            \n",
    "def search_specificFunder(orcid_id):\n",
    "    global list_of_pages\n",
    "    list_of_pages=Crossref().works(filter = {'funder': funder_id, 'orcid': orcid_id}, cursor = \"*\", select = \"DOI,title\")   #,author  Erstellung der Liste\n",
    "    for page in list_of_pages:\n",
    "        for item in page['message']['items']:\n",
    "            print(f\"{item['DOI']}, {item['title'][0]}\")"
   ]
  },
  {
   "cell_type": "code",
   "execution_count": 5,
   "metadata": {
    "scrolled": false
   },
   "outputs": [
    {
     "name": "stdout",
     "output_type": "stream",
     "text": [
      "10.1007/s11553-022-00940-6, Prävention von berufsbedingtem Hautkrebs bei Beschäftigten im Freien: Entwicklung eines Curriculums zur Fortbildung von Multiplikator*innen\n",
      "10.1007/s11553-020-00799-5, Prävention berufsbedingter Erkrankungen durch Lehrkräfte\n",
      "10.3390/ijerph19074176, Occupational Exposure of Hairdressers to Airborne Hazardous Chemicals: A Scoping Review\n",
      "10.1093/occmed/kqac046, Acceptance of skin products in healthcare workers: an empirical investigation\n",
      "10.1155/2021/5558694, UV-Induced Skin Cancer Knowledge, Sun Exposure, and Tanning Behavior among University Students: Investigation of an Opportunity Sample of German University Students\n",
      "10.3390/ijms19082186, The Small Yeast GTPase Rho5 and Its Dimeric GEF Dck1/Lmo1 Respond to Glucose Starvation\n",
      "10.3390/ijms20225550, Analysis of Functional Domains in Rho5, the Yeast Homolog of Human Rac1 GTPase, in Oxidative Stress Response\n",
      "10.1371/journal.pone.0223374, Analysis of the protein composition of the spindle pole body during sporulation in Ashbya gossypii\n",
      "10.1016/j.flora.2020.151602, Evolutionary history of the Eurasian steppe plant Schivereckia podolica (Brassicaceae) and its close relatives\n",
      "10.1002/ece3.8015, Pleistocene dynamics of the Eurasian steppe as a driving force of evolution: Phylogenetic history of the genus\n",
      "            <i>Capsella</i>\n",
      "            (Brassicaceae)\n",
      "10.1105/tpc.19.00551, A Similar Genetic Architecture Underlies the Convergent Evolution of the Selfing Syndrome in <i>Capsella</i>\n",
      "10.1002/ece3.7217, A story from the Miocene: Clock‐dated phylogeny of\n",
      "            <i>Sisymbrium</i>\n",
      "            L. (Sisymbrieae, Brassicaceae)\n"
     ]
    }
   ],
   "source": [
    "# Main programm\n",
    "\n",
    "if funder_id == \"\":\n",
    "    for item in list_of_ids:\n",
    "        search_allFunder(item)\n",
    "else: \n",
    "    for item in list_of_ids:\n",
    "        search_specificFunder(item)\n",
    "    "
   ]
  }
 ],
 "metadata": {
  "colab": {
   "authorship_tag": "ABX9TyN8GdEZ2emA2pb1j6K+9PwP",
   "name": "crossref_get_works_by_person.ipynb",
   "provenance": [
    {
     "file_id": "1RvDBYtHIK8LG_31cmfKW2PxQ3whxondX",
     "timestamp": 1643057922530
    }
   ]
  },
  "kernelspec": {
   "display_name": "Python 3 (ipykernel)",
   "language": "python",
   "name": "python3"
  },
  "language_info": {
   "codemirror_mode": {
    "name": "ipython",
    "version": 3
   },
   "file_extension": ".py",
   "mimetype": "text/x-python",
   "name": "python",
   "nbconvert_exporter": "python",
   "pygments_lexer": "ipython3",
   "version": "3.9.13"
  }
 },
 "nbformat": 4,
 "nbformat_minor": 4
}
