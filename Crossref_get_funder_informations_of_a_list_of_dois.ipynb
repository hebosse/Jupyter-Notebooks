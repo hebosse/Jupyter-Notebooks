{
 "cells": [
  {
   "cell_type": "markdown",
   "metadata": {
    "id": "k6HfuEZe48LV"
   },
   "source": [
    "## Query Crossref for funder informations\n",
    "This notebook queries the [Crossref API](http://api.crossref.org) via its `'/works'` endpoint for publications and there funders. It takes a list of DOIs as input which is used to filter for the respective dois and display there title, doi and funder informations"
   ]
  },
  {
   "cell_type": "code",
   "execution_count": 1,
   "metadata": {
    "id": "aV_HkXxJ4pVB",
    "scrolled": true
   },
   "outputs": [],
   "source": [
    "# Prerequisites:\n",
    "import requests                        # dependency to make HTTP calls\n",
    "from habanero import Crossref          # lib for querying crossref api"
   ]
  },
  {
   "cell_type": "code",
   "execution_count": 2,
   "metadata": {},
   "outputs": [],
   "source": [
    "# Input list of dois\n",
    "list_doi=['10.1371/journal.pone.0233153',\n",
    "'10.1002/1873-3468.13989',\n",
    "'10.1371/journal.ppat.1008220',\n",
    "'10.1002/adem.202101159',\n",
    "'10.1002/admi.202001911',\n",
    "'10.1002/anie.202207950',\n",
    "'10.1002/aps3.11438'\n",
    "]"
   ]
  },
  {
   "cell_type": "code",
   "execution_count": 3,
   "metadata": {
    "executionInfo": {
     "elapsed": 485,
     "status": "ok",
     "timestamp": 1643057866151,
     "user": {
      "displayName": "Sandra M",
      "photoUrl": "https://lh3.googleusercontent.com/a-/AOh14GjjehryRcYlqHNFf_9Q6slGN_VZPE0y5QkvOxzG=s64",
      "userId": "04602594913862593282"
     },
     "user_tz": -60
    },
    "id": "AIuILzlS6zv9"
   },
   "outputs": [],
   "source": [
    "def search(item):\n",
    "    list_of_pages=Crossref().works(filter = {'doi': item}, cursor = \"*\", select = \"DOI,title,funder\")  \n",
    "    for page in list_of_pages:\n",
    "        for item in page['message']['items']:\n",
    "            if 'funder' in item.keys():\n",
    "                print(f\"{item['DOI']},{item['title'][0]}\",'Funder Informations',f\"{item['funder']}\")\n",
    "            else:\n",
    "                print(f\"{item['DOI']},{item['title'][0]}\",',no funder informations')"
   ]
  },
  {
   "cell_type": "code",
   "execution_count": 4,
   "metadata": {
    "scrolled": true
   },
   "outputs": [
    {
     "name": "stdout",
     "output_type": "stream",
     "text": [
      "10.1371/journal.pone.0233153,An empirically derived recommendation for the classification of body dysmorphic disorder: Findings from structural equation modeling Funder Informations [{'DOI': '10.13039/501100001659', 'name': 'Deutsche Forschungsgemeinschaft', 'doi-asserted-by': 'publisher', 'award': ['GR 4761/2-1']}]\n",
      "10.1002/1873-3468.13989,Cryo‐EM of ABC transporters: an ice‐cold solution to everything? Funder Informations [{'DOI': '10.13039/501100001659', 'name': 'Deutsche Forschungsgemeinschaft', 'doi-asserted-by': 'publisher', 'award': ['Mo2752/2']}, {'DOI': '10.13039/501100004189', 'name': 'Max-Planck-Gesellschaft', 'doi-asserted-by': 'publisher'}]\n",
      "10.1371/journal.ppat.1008220,A trafficome-wide RNAi screen reveals deployment of early and late secretory host proteins and the entire late endo-/lysosomal vesicle fusion machinery by intracellular Salmonella Funder Informations [{'DOI': '10.13039/501100002347', 'name': 'Bundesministerium für Bildung und Forschung', 'doi-asserted-by': 'publisher', 'award': ['0315834D']}, {'DOI': '10.13039/501100001659', 'name': 'Deutsche Forschungsgemeinschaft', 'doi-asserted-by': 'publisher', 'award': ['SPP1580, HE1964/18-2']}, {'DOI': '10.13039/501100001659', 'name': 'Deutsche Forschungsgemeinschaft', 'doi-asserted-by': 'publisher', 'award': ['SFB944, Z project']}]\n",
      "10.1002/adem.202101159,Thin Patterned Lithium Niobate Films by Parallel Additive Capillary Stamping of Aqueous Precursor Solutions ,no funder informations\n",
      "10.1002/admi.202001911,Capillary Stamping of Functional Materials: Parallel Additive Substrate Patterning without Ink Depletion Funder Informations [{'DOI': '10.13039/501100000781', 'name': 'European Research Council', 'doi-asserted-by': 'publisher', 'award': ['ERC‐CoG‐2014', '646742 INCANA']}, {'DOI': '10.13039/501100001659', 'name': 'Deutsche Forschungsgemeinschaft', 'doi-asserted-by': 'publisher', 'award': ['GA2169/7‐1', 'HA5405/6‐2', 'ME 3275/6‐1']}]\n",
      "10.1002/anie.202207950,Proton‐Gradient‐Driven Sensitivity Enhancement of Liposome‐Encapsulated Supramolecular Chemosensors Funder Informations [{'DOI': '10.13039/501100001659', 'name': 'Deutsche Forschungsgemeinschaft', 'doi-asserted-by': 'publisher', 'award': ['HE 5967/6-1', 'NA 686/15-1']}]\n",
      "10.1002/aps3.11438,The best of both worlds: Combining lineage‐specific and universal bait sets in target‐enrichment hybridization reactions ,no funder informations\n"
     ]
    }
   ],
   "source": [
    "# Main programm\n",
    "for item in list_doi:\n",
    "    search(item)"
   ]
  }
 ],
 "metadata": {
  "colab": {
   "authorship_tag": "ABX9TyN8GdEZ2emA2pb1j6K+9PwP",
   "name": "crossref_get_works_by_person.ipynb",
   "provenance": [
    {
     "file_id": "1RvDBYtHIK8LG_31cmfKW2PxQ3whxondX",
     "timestamp": 1643057922530
    }
   ]
  },
  "kernelspec": {
   "display_name": "Python 3 (ipykernel)",
   "language": "python",
   "name": "python3"
  },
  "language_info": {
   "codemirror_mode": {
    "name": "ipython",
    "version": 3
   },
   "file_extension": ".py",
   "mimetype": "text/x-python",
   "name": "python",
   "nbconvert_exporter": "python",
   "pygments_lexer": "ipython3",
   "version": "3.9.13"
  }
 },
 "nbformat": 4,
 "nbformat_minor": 4
}
