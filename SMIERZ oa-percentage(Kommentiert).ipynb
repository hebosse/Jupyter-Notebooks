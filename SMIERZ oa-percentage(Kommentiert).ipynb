{
 "cells": [
  {
   "cell_type": "markdown",
   "id": "cd151571-2976-4e81-a1e2-2cf716466271",
   "metadata": {},
   "source": [
    "<div align=\"center\" style=\"border:solid 1px gray;\">\n",
    "    <a href=\"https://openalex.org/\">\n",
    "        <img src=\"../../resources/img/OpenAlex-banner.png\" alt=\"OpenAlex banner\" width=\"300\">\n",
    "    </a>\n",
    "</div>"
   ]
  },
  {
   "cell_type": "markdown",
   "id": "e141e5ff-f69d-4563-a556-ce1e746aef14",
   "metadata": {},
   "source": [
    "# Monitoring Open Access publications for a given institution\n",
    "\n",
    "<div style='background:#e7edf7'>\n",
    "    In this notebook we will query the OpenAlex API to answer the question:\n",
    "    <blockquote>\n",
    "        <b><i>How many of recent journal articles from a given institution are Open Access? And how many aren't?</i></b>\n",
    "    </blockquote>\n",
    "    To get to the bottom of this, we will use the following API functionalities: \n",
    "    <a href=\"https://docs.openalex.org/api/get-lists-of-entities#filter\">filtering</a> and \n",
    "    <a href=\"https://docs.openalex.org/api/get-groups-of-entities\">grouping</a>\n",
    "</div>\n",
    "<br>\n",
    "\n",
    "Imagine you would like to track the University of Florida's progress in the transition towards Open Access (OA). How could you do that using OpenAlex?\n",
    "\n",
    "\n",
    "Let's start by dividing the process into smaller, more manageable steps:\n",
    "1. First we need to get all recent journal articles from the University of Florida\n",
    "2. Next we divide them into open and closed access\n",
    "3. Finally we count the publications in each category\n",
    "4. Additionally we can put the numbers into a plot to visualize our findings\n",
    "\n",
    "---"
   ]
  },
  {
   "cell_type": "markdown",
   "id": "fe7842e7",
   "metadata": {},
   "source": [
    "## Anmerkungen\n",
    "\n",
    "Keine pagination nötig, da keine DOI Listen generiert werden.\n",
    "\n",
    "is_paratext=false ausprobieren. Evtl. Datenmüll beim letzten Mal mitgenommen"
   ]
  },
  {
   "cell_type": "markdown",
   "id": "f7216c04-3575-4d14-a4ed-5bb66401f5e4",
   "metadata": {},
   "source": [
    "## 1. Get all recent journal articles from the University of Florida\n",
    "The first step in querying OpenAlex is always to build the URL to get exactly the data we need. We need to ask two things:\n",
    "1. About which entity type (author, concept, institution, venue, work) do we want data?  \n",
    " --> Since we want to query for metadata about \"_journal articles_\", the entity type should be `works`.\n",
    "\n",
    "2. What are the criteria the works need to fulfill to fit our purpose?  \n",
    "   Here we need to look into the list of available [filters for works](https://docs.openalex.org/api/get-lists-of-entities/filter-entity-lists#works-filters) and select the appropriate ones.  \n",
    " --> We want to query for \"_all recent journal articles from the University of Florida_\", so we will filter for the works that:\n",
    "    * were published in the last 10 years (=recent):  \n",
    "    `from_publication_date:2012-08-24`,\n",
    "    * are specified as journal articles:   \n",
    "    `type:journal-article`,\n",
    "    * have at least one [authorship](https://docs.openalex.org/about-the-data/work#authorships) affiliation with the University of Florida:  \n",
    "   `institutions.ror:https://ror.org/02y3ad647`,\n",
    "    * are not [paratext](https://docs.openalex.org/about-the-data/work#is_paratext):  \n",
    "   `is_paratext:false`\n",
    "\n",
    "Now we need to put the URL together from these parts as follows:  \n",
    "* Starting point is the base URL of the OpenAlex API: `https://api.openalex.org/`\n",
    "* We append the entity type to it: `https://api.openalex.org/works`\n",
    "* All criteria need to go into the query parameter `filter` that is added after a question mark: `https://api.openalex.org/works?filter=`\n",
    "* To construct the filter value we take the criteria we specified and concatenate them using commas as separators:  \n",
    "`https://api.openalex.org/works?filter=institutions.ror:https://ror.org/02y3ad647,type:journal-article,from_publication_date:2012-08-24,is_paratext:false`\n",
    "\n",
    "With this URL we can get all recent journal articles from the University of Florida!"
   ]
  },
  {
   "cell_type": "markdown",
   "id": "2058147a",
   "metadata": {},
   "source": [
    "Examples of ROR IDs\n",
    "\n",
    "ID Uni UOS = https://ror.org/04qmmjx98\n",
    "\n",
    "TIB Hannover = https://ror.org/04aj4c181\n"
   ]
  },
  {
   "cell_type": "code",
   "execution_count": 1,
   "id": "98345207-4fa0-4799-ba03-5179491adbda",
   "metadata": {},
   "outputs": [
    {
     "name": "stdout",
     "output_type": "stream",
     "text": [
      "complete URL with filters:\n",
      "https://api.openalex.org/works?filter=institutions.ror:https://ror.org/04qmmjx98,is_paratext:false\n"
     ]
    }
   ],
   "source": [
    "# specify endpoint\n",
    "endpoint = 'works'\n",
    "\n",
    "# build the 'filter' parameter\n",
    "filters = \",\".join((\n",
    "    'institutions.ror:https://ror.org/04qmmjx98',\n",
    "    'is_paratext:false',\n",
    "    #'type:journal-article', \n",
    "    #'from_publication_date:2012-08-24'\n",
    "))\n",
    "\n",
    "# put the URL together\n",
    "filtered_works_url = f'https://api.openalex.org/{endpoint}?filter={filters}'\n",
    "print(f'complete URL with filters:\\n{filtered_works_url}')"
   ]
  },
  {
   "cell_type": "markdown",
   "id": "58b725da-3088-4e5b-b69a-2b3c18487956",
   "metadata": {},
   "source": [
    "<hr>\n",
    "\n",
    "## 2. Divide them into open and closed access\n",
    "To get the number of open and closed works, we need to find an additional attribute that we can use to divide the retrieved works further into these categories. Fortunately OpenAlex includes information about the access status of a work in its metadata via the nested [OpenAccess object](https://docs.openalex.org/about-the-data/work#the-openaccess-object). It is made up of the three attributes\n",
    "* `is_oa` _(Boolean): True if this work is Open Access._\n",
    "* `oa_status` _(String): The Open Access (OA) status of this work. Possible values are gold, green, hybrid, bronze, closed._\n",
    "* `oa_url` _(String): The best Open Access (OA) URL for this work._\n",
    "\n",
    "**-->`is_oa` seems to be exactly the criterion we are looking for!**\n",
    "\n",
    "\n",
    "#### Shortcut `group_by`\n",
    "So one way to get the number of open and closed works would be to add `is_oa` as an additional filter to our query and query OpenAlex for each value in its range `{true, false}` to get its resulting count of works, e.g.\n",
    "* `filter=...,is_oa:true`\n",
    "* `filter=...,is_oa:false`\n",
    "\n",
    "\n",
    "But wait! Isn't that exactly what `group_by` does?  \n",
    "Yes, absolutely, the `group_by` parameter takes one attribute as input, divides the list of results based on the attribute's values and returns each of their counts. What a time saver!\n",
    "\n",
    "Let's add `group_by=is_oa` as an additional query parameter to the end of our URL:"
   ]
  },
  {
   "cell_type": "code",
   "execution_count": 2,
   "id": "bc0569ad-cd73-460e-8472-27d92c310ff6",
   "metadata": {},
   "outputs": [
    {
     "name": "stdout",
     "output_type": "stream",
     "text": [
      "complete URL with group_by:\n",
      "https://api.openalex.org/works?filter=institutions.ror:https://ror.org/04qmmjx98,is_paratext:false&group_by=is_oa\n"
     ]
    }
   ],
   "source": [
    "group_by_param = 'group_by=is_oa'\n",
    "\n",
    "work_groups_url = f'{filtered_works_url}&{group_by_param}'\n",
    "print(f'complete URL with group_by:\\n{work_groups_url}')"
   ]
  },
  {
   "cell_type": "markdown",
   "id": "bc97ecd0-2605-4702-b48b-c83d9d090a95",
   "metadata": {},
   "source": [
    "<hr>\n",
    "\n",
    "## 3. Count the number of works in each group\n",
    "\n",
    "After putting together the URL, we can query OpenAlex for the groups of publications and retrieve the following two groups:"
   ]
  },
  {
   "cell_type": "code",
   "execution_count": 3,
   "id": "a7768120-47af-4a3a-bfda-f5cd7fed3046",
   "metadata": {},
   "outputs": [],
   "source": [
    "import requests, json\n",
    "response = requests.get(work_groups_url)\n",
    "\n",
    "work_groups = response.json()['group_by']\n",
    "total_count=work_groups[0]['count']+work_groups[1]['count']"
   ]
  },
  {
   "cell_type": "markdown",
   "id": "8dc253db-a7b9-4cc3-93eb-5ab0d20f471f",
   "metadata": {},
   "source": [
    "Each group is made up of its `key` that contains the attribute value for the `group_by` attribute, in our case `is_oa`, and its `count` of entities belonging to the group. Given these data we can already answer our initial question:  \n",
    "> _How many of recent journal articles from a given institution are Open Access? And how many aren't?_"
   ]
  },
  {
   "cell_type": "code",
   "execution_count": 4,
   "id": "cbe98e13-7716-4967-ac93-a3a7b420c3a8",
   "metadata": {},
   "outputs": [
    {
     "name": "stdout",
     "output_type": "stream",
     "text": [
      "--> Group 1 includes all works where `is_oa` is false and has a count of 10888 publications.\n",
      "--> Group 2 includes all works where `is_oa` is true and has a count of 4769 publications.\n",
      "Total Count: 15657\n",
      "That makes an OA percentage of 30.459220\n"
     ]
    }
   ],
   "source": [
    "def calculate_open_closed_counts(work_groups):\n",
    "    open_works_count = 0\n",
    "    closed_works_count = 0\n",
    "    for index, group in enumerate(work_groups):\n",
    "        print(f\"--> Group {index+1} includes all works where `is_oa` is {group['key']} and has a count of {group['count']} publications.\")\n",
    "\n",
    "        if group['key']==\"true\":\n",
    "            open_works_count += group['count']\n",
    "        else: \n",
    "            closed_works_count += group['count']\n",
    "    \n",
    "    return open_works_count, closed_works_count\n",
    "\n",
    "\n",
    "open_works_count, closed_works_count = calculate_open_closed_counts(work_groups)\n",
    "total_works_count = open_works_count + closed_works_count\n",
    "print('Total Count:', total_count)\n",
    "if total_works_count > 0:\n",
    "    print('That makes an OA percentage of %f' % (100 * open_works_count/total_works_count))\n",
    "else:\n",
    "    print('OA percentage can`t be determined, no publications in result')"
   ]
  },
  {
   "cell_type": "markdown",
   "id": "ead1c279-ffd5-41bf-bd66-dd1cf9f8b3ce",
   "metadata": {},
   "source": [
    "<hr>\n",
    "\n",
    "## 4. Plot the data (optional)\n",
    "Last but not least we can put the data into a visually appealing plot. How about a donut plot?"
   ]
  },
  {
   "cell_type": "code",
   "execution_count": 5,
   "id": "9b1f4de3-3a74-4a30-98a9-597e27778f96",
   "metadata": {},
   "outputs": [
    {
     "data": {
      "image/png": "[encoded data removed]",
      "text/plain": [
       "<Figure size 800x550 with 1 Axes>"
      ]
     },
     "metadata": {},
     "output_type": "display_data"
    }
   ],
   "source": [
    "def create_donut_plot(open_works_count, closed_works_count):\n",
    "    import matplotlib.pyplot as plt\n",
    "    plt.rcParams[\"figure.figsize\"] = (8,5.5)\n",
    "\n",
    "    # set labels and their respective values\n",
    "    groups = ['Open Access', 'Closed Access']\n",
    "    counts = [open_works_count, closed_works_count]\n",
    "\n",
    "    # some visual settings\n",
    "    colors = ['#23c552', '#f84f31']\n",
    "    explode = (0.01, 0.01)\n",
    "\n",
    "    # pie chart\n",
    "    plt.pie(counts, colors=colors, labels=groups,\n",
    "            autopct='%1.1f%%', pctdistance=0.85,\n",
    "            explode=explode, textprops={'fontsize': 14})\n",
    "\n",
    "    # make it a donut (draw circle in the middle)\n",
    "    centre_circle = plt.Circle((0, 0), 0.70, fc='white')\n",
    "    fig = plt.gcf()\n",
    "    fig.gca().add_artist(centre_circle)\n",
    "    \n",
    "    # display chart\n",
    "    plt.show()\n",
    "\n",
    "# create donut chart from open/closed counts\n",
    "create_donut_plot(open_works_count, closed_works_count)"
   ]
  },
  {
   "cell_type": "markdown",
   "id": "403a64ee-56e5-41d6-b472-cd63765f7217",
   "metadata": {},
   "source": [
    "---\n",
    "Feel free to use the notebook and determine the percentage of Open Access works for your institution or tweak the filters to fit your analysis.  \n",
    "\n",
    "Happy exploring! 😎"
   ]
  }
 ],
 "metadata": {
  "kernelspec": {
   "display_name": "Python 3 (ipykernel)",
   "language": "python",
   "name": "python3"
  },
  "language_info": {
   "codemirror_mode": {
    "name": "ipython",
    "version": 3
   },
   "file_extension": ".py",
   "mimetype": "text/x-python",
   "name": "python",
   "nbconvert_exporter": "python",
   "pygments_lexer": "ipython3",
   "version": "3.9.13"
  }
 },
 "nbformat": 4,
 "nbformat_minor": 5
}
