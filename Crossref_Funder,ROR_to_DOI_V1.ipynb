{
 "cells": [
  {
   "cell_type": "markdown",
   "metadata": {},
   "source": [
    "## Query Crossref for works and there funder authored by a person\n",
    "\n",
    "This notebook queries the [Crossref API](http://api.crossref.org) via its `'/works'` endpoint for works authored by a institution and there funders. It takes a ror id as input which is used to filter for all works where one of the authors `'ror'` field matches the given ror id. Secondly we search either for a specific funder via the filter `'funder'` or for all funders via the filter `'has_funder'`. From the resulting list of works we output all DOIs and their titles.\n"
   ]
  },
  {
   "cell_type": "markdown",
   "metadata": {},
   "source": [
    "#### Examples of funder_ids\n",
    "\n",
    "DFG = http://dx.doi.org/10.13039/501100001659 \n",
    "\n",
    "Volkswagen foundation = http://dx.doi.org/10.13039/501100001663\n",
    "\n",
    "BMBF = http://dx.doi.org/10.13039/501100002347 \n",
    "\n",
    "#### Examples of ror_ids\n",
    "\n",
    "University of Osnabrück = https://ror.org/04qmmjx98\n",
    "\n",
    "TIB Hannover = https://ror.org/04aj4c181"
   ]
  },
  {
   "cell_type": "code",
   "execution_count": 1,
   "metadata": {},
   "outputs": [],
   "source": [
    "# Prerequisites:\n",
    "import requests                        # dependency to make HTTP calls\n",
    "from habanero import Crossref          # lib for querying crossref api"
   ]
  },
  {
   "cell_type": "markdown",
   "metadata": {},
   "source": [
    "If you want to search for all funder, don't enter a funder ID in the field funder_id\n"
   ]
  },
  {
   "cell_type": "code",
   "execution_count": 3,
   "metadata": {
    "executionInfo": {
     "elapsed": 14,
     "status": "ok",
     "timestamp": 1643057865676,
     "user": {
      "displayName": "Sandra M",
      "photoUrl": "https://lh3.googleusercontent.com/a-/AOh14GjjehryRcYlqHNFf_9Q6slGN_VZPE0y5QkvOxzG=s64",
      "userId": "04602594913862593282"
     },
     "user_tz": -60
    },
    "id": "rbQX-rGA6M6B"
   },
   "outputs": [],
   "source": [
    "# input funder\n",
    "funder_id=\"\""
   ]
  },
  {
   "cell_type": "code",
   "execution_count": 6,
   "metadata": {},
   "outputs": [],
   "source": [
    "# input ror\n",
    "ror_id=\"https://ror.org/04qmmjx98\""
   ]
  },
  {
   "cell_type": "markdown",
   "metadata": {},
   "source": [
    "First, we use it to query the Crossref API via its '`/works`' endpoint and set a filter for the `ror` field to match the given ORCID iD. \n",
    "Second, we use the filter for `funder`, in search for a specific funder or the filter `has_funder` in case we want all funders."
   ]
  },
  {
   "cell_type": "code",
   "execution_count": 4,
   "metadata": {
    "executionInfo": {
     "elapsed": 485,
     "status": "ok",
     "timestamp": 1643057866151,
     "user": {
      "displayName": "Sandra M",
      "photoUrl": "https://lh3.googleusercontent.com/a-/AOh14GjjehryRcYlqHNFf_9Q6slGN_VZPE0y5QkvOxzG=s64",
      "userId": "04602594913862593282"
     },
     "user_tz": -60
    },
    "id": "AIuILzlS6zv9",
    "scrolled": false
   },
   "outputs": [],
   "source": [
    "# we are using an existing library for querying the api crossref                            \n",
    "def searchfunderror():\n",
    "    list_of_pages=Crossref().works(filter = {'funder': funder_id, 'ror-id': ror_id}, cursor = \"*\", select = \"DOI,title\")  \n",
    "    for page in list_of_pages:                                      \n",
    "        for item in page['message']['items']:\n",
    "            print(f\"{item['DOI']}, {item['title'][0]}\")\n",
    "\n",
    "def searchror():\n",
    "    list_of_pages=Crossref().works(filter = {'has_funder': True, 'ror-id': ror_id}, cursor = \"*\", select = \"DOI,title\")\n",
    "    for page in list_of_pages:                                      \n",
    "        for item in page['message']['items']:\n",
    "            print(f\"{item['DOI']}, {item['title'][0]}\")\n",
    "\n"
   ]
  },
  {
   "cell_type": "code",
   "execution_count": 5,
   "metadata": {
    "colab": {
     "base_uri": "https://localhost:8080/"
    },
    "executionInfo": {
     "elapsed": 6,
     "status": "ok",
     "timestamp": 1643057866152,
     "user": {
      "displayName": "Sandra M",
      "photoUrl": "https://lh3.googleusercontent.com/a-/AOh14GjjehryRcYlqHNFf_9Q6slGN_VZPE0y5QkvOxzG=s64",
      "userId": "04602594913862593282"
     },
     "user_tz": -60
    },
    "id": "0bW0T-cv25wN",
    "outputId": "247e242b-c97a-47aa-dd5b-a80334ea1c42",
    "scrolled": true
   },
   "outputs": [
    {
     "name": "stdout",
     "output_type": "stream",
     "text": [
      "10.3762/bjnano.13.53, Quantitative dynamic force microscopy with inclined tip oscillation\n",
      "10.7554/elife.80901, Structure of the HOPS tethering complex, a lysosomal membrane fusion machinery\n",
      "10.7554/elife.79278, Pathogenic variants of sphingomyelin synthase SMS2 disrupt lipid landscapes in the secretory pathway\n",
      "10.7554/elife.77227, Transition to siblinghood causes a substantial and long-lasting increase in urinary cortisol levels in wild bonobos\n"
     ]
    }
   ],
   "source": [
    "# main programm \n",
    "   \n",
    "if funder_id == \"\":\n",
    "    searchror()\n",
    "else:\n",
    "    searchfunderror()    "
   ]
  },
  {
   "cell_type": "code",
   "execution_count": null,
   "metadata": {},
   "outputs": [],
   "source": []
  }
 ],
 "metadata": {
  "colab": {
   "authorship_tag": "ABX9TyN8GdEZ2emA2pb1j6K+9PwP",
   "name": "crossref_get_works_by_person.ipynb",
   "provenance": [
    {
     "file_id": "1RvDBYtHIK8LG_31cmfKW2PxQ3whxondX",
     "timestamp": 1643057922530
    }
   ]
  },
  "kernelspec": {
   "display_name": "Python 3 (ipykernel)",
   "language": "python",
   "name": "python3"
  },
  "language_info": {
   "codemirror_mode": {
    "name": "ipython",
    "version": 3
   },
   "file_extension": ".py",
   "mimetype": "text/x-python",
   "name": "python",
   "nbconvert_exporter": "python",
   "pygments_lexer": "ipython3",
   "version": "3.9.13"
  }
 },
 "nbformat": 4,
 "nbformat_minor": 4
}
