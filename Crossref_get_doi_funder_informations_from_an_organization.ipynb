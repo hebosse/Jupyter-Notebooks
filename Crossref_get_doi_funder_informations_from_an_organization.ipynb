{
 "cells": [
  {
   "cell_type": "markdown",
   "metadata": {},
   "source": [
    "## Query Crossref for works and funder informations affiliated with an institution\n",
    "\n",
    "This notebook queries the [Crossref API](http://api.crossref.org) via its `'/works'` endpoint for works authored by a institution and there funders. It takes a ror id as input which is used to filter for all works where one of the authors `'ror'` field matches the given ror id. From the resulting list of works we output all DOIs, their titles and theire funder informations.\n"
   ]
  },
  {
   "cell_type": "markdown",
   "metadata": {},
   "source": [
    "#### Examples of ror_ids\n",
    "\n",
    "University of Osnabrück = https://ror.org/04qmmjx98\n",
    "\n",
    "TIB Hannover = https://ror.org/04aj4c181"
   ]
  },
  {
   "cell_type": "code",
   "execution_count": 1,
   "metadata": {},
   "outputs": [],
   "source": [
    "# Prerequisites:\n",
    "import requests                        # dependency to make HTTP calls\n",
    "from habanero import Crossref          # lib for querying crossref api"
   ]
  },
  {
   "cell_type": "code",
   "execution_count": 2,
   "metadata": {},
   "outputs": [],
   "source": [
    "# input ror\n",
    "ror_id=\"https://ror.org/04qmmjx98\""
   ]
  },
  {
   "cell_type": "markdown",
   "metadata": {},
   "source": [
    "We use it to query the Crossref API via its '`/works`' endpoint and set a filter for the `ror` field to match the given ORCID iD. "
   ]
  },
  {
   "cell_type": "code",
   "execution_count": 3,
   "metadata": {
    "executionInfo": {
     "elapsed": 485,
     "status": "ok",
     "timestamp": 1643057866151,
     "user": {
      "displayName": "Sandra M",
      "photoUrl": "https://lh3.googleusercontent.com/a-/AOh14GjjehryRcYlqHNFf_9Q6slGN_VZPE0y5QkvOxzG=s64",
      "userId": "04602594913862593282"
     },
     "user_tz": -60
    },
    "id": "AIuILzlS6zv9",
    "scrolled": false
   },
   "outputs": [],
   "source": [
    "# we are using an existing library for querying the api crossref                            \n",
    "\n",
    "def searchror(ror_id):\n",
    "    list_of_pages=Crossref().works(filter = {'ror-id': ror_id}, cursor = \"*\", select = \"DOI,title,funder\")\n",
    "    for page in list_of_pages:                                      \n",
    "        for item in page['message']['items']:\n",
    "            print('New Entry')                    # For presentation purposes, marks a new doi entry\n",
    "            if 'funder' in item.keys():\n",
    "                print(f\"{item['DOI']},{item['title'][0]}\",'Funder Informations:',f\"{item['funder']}\")\n",
    "            else:\n",
    "                print(f\"{item['DOI']},{item['title'][0]}\",',no funder informations')"
   ]
  },
  {
   "cell_type": "code",
   "execution_count": 4,
   "metadata": {
    "colab": {
     "base_uri": "https://localhost:8080/"
    },
    "executionInfo": {
     "elapsed": 6,
     "status": "ok",
     "timestamp": 1643057866152,
     "user": {
      "displayName": "Sandra M",
      "photoUrl": "https://lh3.googleusercontent.com/a-/AOh14GjjehryRcYlqHNFf_9Q6slGN_VZPE0y5QkvOxzG=s64",
      "userId": "04602594913862593282"
     },
     "user_tz": -60
    },
    "id": "0bW0T-cv25wN",
    "outputId": "247e242b-c97a-47aa-dd5b-a80334ea1c42",
    "scrolled": true
   },
   "outputs": [
    {
     "name": "stdout",
     "output_type": "stream",
     "text": [
      "New Entry\n",
      "10.3762/bjnano.13.53,Quantitative dynamic force microscopy with inclined tip oscillation Funder Informations: [{'DOI': '10.13039/501100001659', 'name': 'Deutsche Forschungsgemeinschaft', 'doi-asserted-by': 'publisher', 'award': ['RA2832/1-1', 'RE1186/21-1', 'RE1186/23-1']}]\n",
      "New Entry\n",
      "10.7554/elife.77227.sa2,Author response: Transition to siblinghood causes a substantial and long-lasting increase in urinary cortisol levels in wild bonobos ,no funder informations\n",
      "New Entry\n",
      "10.7554/elife.80901.sa2,Author response: Structure of the HOPS tethering complex, a lysosomal membrane fusion machinery ,no funder informations\n",
      "New Entry\n",
      "10.7554/elife.80901,Structure of the HOPS tethering complex, a lysosomal membrane fusion machinery Funder Informations: [{'DOI': '10.13039/501100001659', 'name': 'Deutsche Forschungsgemeinschaft', 'doi-asserted-by': 'publisher', 'award': ['UN111/5-6']}, {'DOI': '10.13039/501100001659', 'name': 'Deutsche Forschungsgemeinschaft', 'doi-asserted-by': 'publisher', 'award': ['INST190/196-1 FUGG']}, {'DOI': '10.13039/501100002347', 'name': 'Bundesministerium für Bildung und Forschung', 'doi-asserted-by': 'publisher', 'award': ['BMBF/DLR 01ED2010']}, {'DOI': '10.13039/501100001659', 'name': 'Deutsche Forschungsgemeinschaft', 'doi-asserted-by': 'publisher', 'award': ['SFB 944 P11']}, {'DOI': '10.13039/501100001659', 'name': 'Deutsche Forschungsgemeinschaft', 'doi-asserted-by': 'publisher', 'award': ['SFB 944 P27']}, {'DOI': '10.13039/501100001659', 'name': 'Deutsche Forschungsgemeinschaft', 'doi-asserted-by': 'publisher', 'award': ['SFB 944 P20']}, {'DOI': '10.13039/501100001659', 'name': 'Deutsche Forschungsgemeinschaft', 'doi-asserted-by': 'publisher', 'award': ['SFB 944 P16']}, {'DOI': '10.13039/501100001659', 'name': 'Deutsche Forschungsgemeinschaft', 'doi-asserted-by': 'publisher', 'award': ['MO 2752/3-6']}]\n",
      "New Entry\n",
      "10.7554/elife.79278,Pathogenic variants of sphingomyelin synthase SMS2 disrupt lipid landscapes in the secretory pathway Funder Informations: [{'DOI': '10.13039/501100001659', 'name': 'Deutsche Forschungsgemeinschaft', 'doi-asserted-by': 'publisher', 'award': ['SFB944-P14']}, {'DOI': '10.13039/501100001659', 'name': 'Deutsche Forschungsgemeinschaft', 'doi-asserted-by': 'publisher', 'award': ['HO3539/1-1']}, {'DOI': '10.13039/501100001659', 'name': 'Deutsche Forschungsgemeinschaft', 'doi-asserted-by': 'publisher', 'award': ['SFB944-P8']}, {'DOI': '10.13039/100000002', 'name': 'National Institutes of Health', 'doi-asserted-by': 'publisher', 'award': ['R35 GM144096']}, {'DOI': '10.13039/501100009708', 'name': 'Novo Nordisk Foundation', 'doi-asserted-by': 'publisher', 'award': ['NNF17OC0029432']}, {'DOI': '10.13039/501100004836', 'name': 'Independent Research Fund Denmark', 'doi-asserted-by': 'publisher', 'award': ['6108–00542B']}]\n",
      "New Entry\n",
      "10.7554/elife.79278.sa2,Author response: Pathogenic variants of sphingomyelin synthase SMS2 disrupt lipid landscapes in the secretory pathway ,no funder informations\n",
      "New Entry\n",
      "10.7554/elife.77227,Transition to siblinghood causes a substantial and long-lasting increase in urinary cortisol levels in wild bonobos Funder Informations: [{'DOI': '10.13039/501100001659', 'name': 'Deutsche Forschungsgemeinschaft', 'doi-asserted-by': 'publisher', 'award': ['BE 5511/4-1']}, {'DOI': '10.13039/501100007768', 'name': 'Max Planck Institute for Evolutionary Anthropology', 'doi-asserted-by': 'publisher', 'award': ['Open access funding']}, {'name': 'Max Planck Institute of Animal Behavior', 'award': ['Open access funding']}]\n"
     ]
    }
   ],
   "source": [
    "# main programm \n",
    "searchror(ror_id) "
   ]
  },
  {
   "cell_type": "code",
   "execution_count": null,
   "metadata": {},
   "outputs": [],
   "source": []
  }
 ],
 "metadata": {
  "colab": {
   "authorship_tag": "ABX9TyN8GdEZ2emA2pb1j6K+9PwP",
   "name": "crossref_get_works_by_person.ipynb",
   "provenance": [
    {
     "file_id": "1RvDBYtHIK8LG_31cmfKW2PxQ3whxondX",
     "timestamp": 1643057922530
    }
   ]
  },
  "kernelspec": {
   "display_name": "Python 3 (ipykernel)",
   "language": "python",
   "name": "python3"
  },
  "language_info": {
   "codemirror_mode": {
    "name": "ipython",
    "version": 3
   },
   "file_extension": ".py",
   "mimetype": "text/x-python",
   "name": "python",
   "nbconvert_exporter": "python",
   "pygments_lexer": "ipython3",
   "version": "3.9.13"
  }
 },
 "nbformat": 4,
 "nbformat_minor": 4
}
