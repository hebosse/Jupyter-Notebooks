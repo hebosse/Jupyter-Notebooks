{
 "cells": [
  {
   "cell_type": "markdown",
   "id": "0fdf9631",
   "metadata": {},
   "source": [
    "## Search for Experts from a list of ORCID IDs"
   ]
  },
  {
   "cell_type": "code",
   "execution_count": 1,
   "id": "W8sB1ZF6aKG2",
   "metadata": {
    "executionInfo": {
     "elapsed": 5,
     "status": "ok",
     "timestamp": 1643058187428,
     "user": {
      "displayName": "",
      "photoUrl": "",
      "userId": ""
     },
     "user_tz": -60
    },
    "id": "W8sB1ZF6aKG2"
   },
   "outputs": [],
   "source": [
    "# Prerequisites:\n",
    "import requests         # dependency to make HTTP calls"
   ]
  },
  {
   "attachments": {},
   "cell_type": "markdown",
   "id": "be2fe02c",
   "metadata": {},
   "source": [
    "#### Subject List\n",
    "\n",
    "This List contains all 19 root concepts (Level 0) from OpenAlex. This concepts are the broadest concepts, OpenAlex contains over 60000 different concepts, which can be found here:\n",
    "This search can work with all concepts an can search mupliple concepts at the same time. \n",
    "\n",
    "#### orthography\n",
    "\n",
    "If you want to use different non level 0 concepts you have to use the displayed name. The concept has to be the form 'concept', if you want to use multiple concepts, they have to be seperated with an comma."
   ]
  },
  {
   "cell_type": "code",
   "execution_count": 2,
   "id": "155dd5c5",
   "metadata": {},
   "outputs": [],
   "source": [
    "# list of root concepts\n",
    "root_concepts=['Political science',\n",
    "'Philosophy',\n",
    "'Economics',\n",
    "'Business',\n",
    "'Psychology',\n",
    "'Mathematics',\n",
    "'Medicine',\n",
    "'Biology',\n",
    "'Computer science',\n",
    "'Geology',\n",
    "'Chemistry',\n",
    "'Art',\n",
    "'Sociology',\n",
    "'Engineering',\n",
    "'Geography',\n",
    "'History',\n",
    "'Materials science',\n",
    "'Physics',\n",
    "'Environmental science']"
   ]
  },
  {
   "cell_type": "markdown",
   "id": "b77a8eb7",
   "metadata": {},
   "source": [
    "#### Input parameters\n",
    "\n",
    "There are 3 Input Parameters: A List of ORCID IDs, a list of subjects and a confidence score"
   ]
  },
  {
   "cell_type": "code",
   "execution_count": 3,
   "id": "33dd8492",
   "metadata": {},
   "outputs": [],
   "source": [
    "# Search Subjects\n",
    "Concept_search=['Computer science','Physics']"
   ]
  },
  {
   "cell_type": "markdown",
   "id": "3df20d0e",
   "metadata": {},
   "source": [
    "Note: ORCID IDs have to be in the Form \"0000-0001-5380-4449\" and have to be seperated by comma"
   ]
  },
  {
   "cell_type": "code",
   "execution_count": 4,
   "id": "25f8a288",
   "metadata": {},
   "outputs": [],
   "source": [
    "# Orcid list\n",
    "list_of_ids=[\"0000-0002-3416-2652\",\n",
    "\"0000-0001-6604-6253\",\n",
    "\"0000-0003-4331-8695\",\n",
    "\"0000-0003-4939-1666\",\n",
    "\"0000-0002-5861-8896\",]"
   ]
  },
  {
   "cell_type": "markdown",
   "id": "4e4479e7",
   "metadata": {},
   "source": [
    "Note: The score has to be between 0 and 1. a higher score meets a higher threshold for counting as an expert"
   ]
  },
  {
   "cell_type": "code",
   "execution_count": 5,
   "id": "3a8d23b4",
   "metadata": {},
   "outputs": [],
   "source": [
    "# Confidence scores\n",
    "confidence_score=0.4"
   ]
  },
  {
   "cell_type": "markdown",
   "id": "nWOX9dkvaZ97",
   "metadata": {
    "id": "nWOX9dkvaZ97"
   },
   "source": [
    "We use it to query the OpenAlex API for works that specified the ORCID URL within their metadata in the field '`authorships.author.orcid`'.\n",
    " Since the API uses [pagination](https://docs.openalex.org/api/get-lists-of-entities#pagination), we need to loop through all pages to get the complete result set."
   ]
  },
  {
   "cell_type": "code",
   "execution_count": 6,
   "id": "8b608640-96a8-47d1-9de7-b7d3f6fd5a47",
   "metadata": {
    "executionInfo": {
     "elapsed": 5,
     "status": "ok",
     "timestamp": 1643058187685,
     "user": {
      "displayName": "",
      "photoUrl": "",
      "userId": ""
     },
     "user_tz": -60
    },
    "id": "8b608640-96a8-47d1-9de7-b7d3f6fd5a47"
   },
   "outputs": [],
   "source": [
    "# OpenAlex endpoint to query for works\n",
    "OPENALEX_API_WORKS = \"https://api.openalex.org/works\"\n",
    "\n",
    "# query all works that are connected to orcid\n",
    "def query_openalex_for_person2works(orcid):\n",
    "    page = 1\n",
    "    max_page = 1\n",
    "    \n",
    "    while page <= max_page:\n",
    "        params = {'filter': 'authorships.author.orcid:'+orcid, 'page': page}\n",
    "        response = requests.get(url=OPENALEX_API_WORKS,\n",
    "                                params=params,\n",
    "                                headers= {'Accept': 'application/json'})\n",
    "        response.raise_for_status()\n",
    "        result=response.json()\n",
    "\n",
    "        # calculate max page number in first loop\n",
    "        if max_page == 1:\n",
    "            max_page = determine_max_page(result)\n",
    "        page = page + 1\n",
    "        yield result\n",
    "\n",
    "# calculate max number of result pages\n",
    "def determine_max_page(response_data):\n",
    "    item_count = response_data['meta']['count']\n",
    "    items_per_page = response_data['meta']['per_page']\n",
    "    max_page_ceil = item_count // items_per_page + bool(item_count % items_per_page)\n",
    "    return max_page_ceil"
   ]
  },
  {
   "cell_type": "markdown",
   "id": "kHRO_LiJr-u_",
   "metadata": {
    "id": "kHRO_LiJr-u_"
   },
   "source": [
    "From the resulting list of works we extract and print out title and DOI. \n",
    "\n",
    "*Note: works that do not have a DOI assigned, will not be printed.*"
   ]
  },
  {
   "cell_type": "code",
   "execution_count": 7,
   "id": "1c36737c-4dcf-42d5-80e2-802f0a7a8326",
   "metadata": {
    "colab": {
     "base_uri": "https://localhost:8080/"
    },
    "executionInfo": {
     "elapsed": 516,
     "status": "ok",
     "timestamp": 1643058188197,
     "user": {
      "displayName": "",
      "photoUrl": "",
      "userId": ""
     },
     "user_tz": -60
    },
    "id": "1c36737c-4dcf-42d5-80e2-802f0a7a8326",
    "outputId": "fb849105-45c1-4abd-a6be-b6d4e3c567f4",
    "scrolled": true
   },
   "outputs": [],
   "source": [
    "# from the result pages we get from the OpenAlex API, extract the data about works\n",
    "def extract_works_from_page(page):\n",
    "    return [work for work in page.get('results') or []]\n",
    "\n",
    "# extract DOI from work\n",
    "def extract_doi(work):\n",
    "    doi=work.get('ids', {}).get('doi') or \"\"\n",
    "    doi_id=doi.replace(\"https://doi.org/\", \"\") if doi else doi\n",
    "    title=work.get('display_name', \"\")\n",
    "    concept=work.get('concepts')\n",
    "    return doi_id, title, concept\n",
    "\n",
    "def main_search(orcid):\n",
    "    global Error_count\n",
    "    # Query for DOI list\n",
    "    result_doi=[]\n",
    "    count_doi=0\n",
    "    list_of_pages=query_openalex_for_person2works(orcid)\n",
    "    for page in list_of_pages or []:\n",
    "        works=extract_works_from_page(page)\n",
    "        for work in works or []:\n",
    "            doi,title,concept=extract_doi(work)\n",
    "            if doi:\n",
    "                add=[]\n",
    "                add.append(orcid)\n",
    "                add.append(doi)\n",
    "                add.append(title)\n",
    "                add_concept=[]\n",
    "                for item in concept:\n",
    "                    all_concepts=[item['display_name'],'Level:'+str(item['level']),item['score']]\n",
    "                    add_concept.append(all_concepts)\n",
    "                add.append(add_concept)\n",
    "                result_doi.append(add)\n",
    "    # Start of the expertsearch           \n",
    "    dict_gesamt={}\n",
    "    dict_gesamt.update({'ID':orcid})\n",
    "    dict_gesamt.update({'Count DOI:':count_doi})\n",
    "    add=[]\n",
    "    dedub_add=[]\n",
    "    # Building a list of all with the respective ORCID connected concepts\n",
    "    for item in result_doi:\n",
    "        if orcid in item:\n",
    "            count_doi=count_doi+1\n",
    "            for item2 in item[3]:\n",
    "                new=item2[0]\n",
    "                add.append(new) \n",
    "        dict_gesamt.update({'Count DOI:':count_doi})\n",
    "    # Dedublication \n",
    "    for item in add:\n",
    "        if item not in dedub_add:\n",
    "            dedub_add.append(item)\n",
    "    # Score for each concept\n",
    "    for single_concept in dedub_add:\n",
    "        score_concept=0\n",
    "        concept_count=0\n",
    "        for item in result_doi:\n",
    "            for item2 in item[3]:\n",
    "                if single_concept in item2[0]:\n",
    "                    score_concept=score_concept+float(item2[2])\n",
    "                    concept_count=concept_count+1\n",
    "            if concept_count>0:\n",
    "                final_score=score_concept/concept_count\n",
    "                dict_gesamt.update({single_concept:final_score}) \n",
    "    # error search\n",
    "    dict_error=dict_gesamt.copy()\n",
    "    del dict_error['ID']\n",
    "    del dict_error['Count DOI:']\n",
    "    error_check=dict_error.values()\n",
    "    for item in error_check:\n",
    "        if item >1:\n",
    "            Error_count=Error_count+1\n",
    "            print('############Error#############')\n",
    "    # Expert search \n",
    "    check=0\n",
    "    expert=['Orcid:', dict_gesamt['ID']]\n",
    "    for item in Concept_search:\n",
    "        if item in dict_gesamt.keys() and dict_gesamt[item]>confidence_score:\n",
    "            check=1\n",
    "            add=['Subject:'+item,'Score:', dict_gesamt[item]]\n",
    "            expert.append(add)\n",
    "    if check ==1:\n",
    "        list_experts.append(expert)"
   ]
  },
  {
   "cell_type": "code",
   "execution_count": 8,
   "id": "425b6e12",
   "metadata": {
    "scrolled": true
   },
   "outputs": [],
   "source": [
    "# main programm:\n",
    "global Error_count\n",
    "Error_count=0\n",
    "global list_experts\n",
    "list_experts=[]\n",
    "for item in list_of_ids:\n",
    "    main_search(item) "
   ]
  },
  {
   "cell_type": "code",
   "execution_count": 9,
   "id": "987d822b",
   "metadata": {
    "scrolled": true
   },
   "outputs": [
    {
     "name": "stdout",
     "output_type": "stream",
     "text": [
      "Error Count: 0\n",
      "Count of Experts: 2\n",
      "['Orcid:', '0000-0002-3416-2652', ['Subject:Computer science', 'Score:', 0.5338947615263159]]\n",
      "['Orcid:', '0000-0002-5861-8896', ['Subject:Computer science', 'Score:', 0.6944728807438019]]\n"
     ]
    }
   ],
   "source": [
    "# Results\n",
    "print('Error Count:',Error_count)\n",
    "print('Count of Experts:', len(list_experts))\n",
    "if len(list_experts) ==0:\n",
    "    print('no experts found')\n",
    "for exp in list_experts:\n",
    "    print (exp)"
   ]
  }
 ],
 "metadata": {
  "colab": {
   "collapsed_sections": [],
   "name": "openalex_get_works_by_person.ipynb",
   "provenance": [
    {
     "file_id": "https://github.com/TAPIR-TIB/pidgraph-notebooks/blob/person-works/person-works/openalex_get_works_by_person.ipynb",
     "timestamp": 1643058224827
    },
    {
     "file_id": "https://github.com/TAPIR-TIB/pidgraph-notebooks/blob/person-works/person-works/openalex_get_works_by_person.ipynb",
     "timestamp": 1643040475251
    },
    {
     "file_id": "1neSGbKlkQwjOYX77kpGK14BqT4KpCei0",
     "timestamp": 1643025949695
    }
   ]
  },
  "kernelspec": {
   "display_name": "Python 3 (ipykernel)",
   "language": "python",
   "name": "python3"
  },
  "language_info": {
   "codemirror_mode": {
    "name": "ipython",
    "version": 3
   },
   "file_extension": ".py",
   "mimetype": "text/x-python",
   "name": "python",
   "nbconvert_exporter": "python",
   "pygments_lexer": "ipython3",
   "version": "3.9.13"
  }
 },
 "nbformat": 4,
 "nbformat_minor": 5
}
