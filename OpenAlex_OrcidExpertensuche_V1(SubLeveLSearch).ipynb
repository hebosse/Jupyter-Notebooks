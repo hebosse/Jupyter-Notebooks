{
 "cells": [
  {
   "cell_type": "markdown",
   "id": "ac7bedaf-05fb-4eb0-9bf5-e4d1d68a08c3",
   "metadata": {
    "id": "ac7bedaf-05fb-4eb0-9bf5-e4d1d68a08c3"
   },
   "source": [
    "## Query OpenAlex for works authored by a person\n",
    "This notebook queries the [OpenAlex API](https://docs.openalex.org/api) via its `/works` endpoint for works authored by a person. It takes an ORCID URL from a list of ORCID IDs as input which is used to filter for works where '`authorships.author.orcid`' matches the given ORCID URL.\n",
    "The notebook iterates through the given list and displys all DOIs."
   ]
  },
  {
   "cell_type": "markdown",
   "id": "0fdf9631",
   "metadata": {},
   "source": [
    "## Concept ID to ORCID\n",
    "\n",
    "Usecase: Expertensuche und Trackrecord\n",
    "\n",
    "Anmerkungen: Doppelsuche nötig um spezifische Uni zu suchen (ORCID und ROR)\n",
    "Muss Endpoint geändert werden?"
   ]
  },
  {
   "cell_type": "code",
   "execution_count": 1,
   "id": "W8sB1ZF6aKG2",
   "metadata": {
    "executionInfo": {
     "elapsed": 5,
     "status": "ok",
     "timestamp": 1643058187428,
     "user": {
      "displayName": "",
      "photoUrl": "",
      "userId": ""
     },
     "user_tz": -60
    },
    "id": "W8sB1ZF6aKG2"
   },
   "outputs": [],
   "source": [
    "# Prerequisites:\n",
    "import requests         # dependency to make HTTP calls"
   ]
  },
  {
   "cell_type": "code",
   "execution_count": 2,
   "id": "dce220ac",
   "metadata": {},
   "outputs": [],
   "source": [
    "# List of all 86 ORCID IDs of members of the University of Osnabrück\n",
    "list_of_ids=[\"0000-0001-5380-4449\",       \n",
    "\"0000-0001-5406-9458\",\n",
    "\"0000-0001-5449-4593\",\n",
    "\"0000-0001-5913-890X\",\n",
    "\"0000-0001-6604-6253\",\n",
    "\"0000-0001-7263-2670\",\n",
    "\"0000-0001-7364-4315\",\n",
    "\"0000-0001-7389-8024\",\n",
    "\"0000-0001-7973-3140\",\n",
    "\"0000-0001-8234-9166\",\n",
    "\"0000-0001-8307-2189\",\n",
    "\"0000-0001-8343-8654\",\n",
    "\"0000-0001-8481-6047\",\n",
    "\"0000-0001-8498-9466\",\n",
    "\"0000-0001-8585-781X\",\n",
    "\"0000-0001-9469-2367\",\n",
    "\"0000-0002-0256-0680\",\n",
    "\"0000-0002-0684-6707\",\n",
    "\"0000-0002-0735-5088\",\n",
    "\"0000-0002-1187-5166\",\n",
    "\"0000-0002-1273-5819\",\n",
    "\"0000-0002-1417-2722\",\n",
    "\"0000-0002-1424-6314\",\n",
    "\"0000-0002-1846-647X\",\n",
    "\"0000-0002-2050-9221\",\n",
    "\"0000-0002-2143-2270\",\n",
    "\"0000-0002-2194-8293\",\n",
    "\"0000-0002-2224-4503\",\n",
    "\"0000-0002-2456-1174\",\n",
    "\"0000-0002-2572-3390\",\n",
    "\"0000-0002-2586-3748\",\n",
    "\"0000-0002-2747-0913\",\n",
    "\"0000-0002-2768-8381\",\n",
    "\"0000-0002-2769-0692\",\n",
    "\"0000-0002-2845-6945\",\n",
    "\"0000-0002-2950-534X\",\n",
    "\"0000-0002-3043-3718\",\n",
    "\"0000-0002-3108-5217\",\n",
    "\"0000-0002-3416-2652\",\n",
    "\"0000-0002-3650-1056\",\n",
    "\"0000-0002-3796-3500\",\n",
    "\"0000-0002-3912-9093\",\n",
    "\"0000-0002-4156-3761\",\n",
    "\"0000-0002-4398-2337\",\n",
    "\"0000-0002-4467-1864\",\n",
    "\"0000-0002-4681-5550\",\n",
    "\"0000-0002-4789-7084\",\n",
    "\"0000-0002-5039-6950\",\n",
    "\"0000-0002-5229-0500\",\n",
    "\"0000-0002-5241-8498\",\n",
    "\"0000-0002-5535-8179\",\n",
    "\"0000-0002-5581-7371\",\n",
    "\"0000-0002-5861-8896\",\n",
    "\"0000-0002-5868-755X\",\n",
    "\"0000-0002-6328-7745\",\n",
    "\"0000-0002-6371-9624\",\n",
    "\"0000-0002-6649-5064\",\n",
    "\"0000-0002-6666-1499\",\n",
    "\"0000-0002-7366-679X\",\n",
    "\"0000-0002-7541-4369\",\n",
    "\"0000-0002-7839-6397\",\n",
    "\"0000-0002-7870-7343\",\n",
    "\"0000-0002-7972-6925\",\n",
    "\"0000-0002-8449-1593\",\n",
    "\"0000-0002-8722-3332\",\n",
    "\"0000-0002-8845-6859\",\n",
    "\"0000-0002-9686-8810\",\n",
    "\"0000-0003-0608-0884\",\n",
    "\"0000-0003-0830-9603\",\n",
    "\"0000-0003-0851-2767\",\n",
    "\"0000-0003-0858-4760\",\n",
    "\"0000-0003-1005-5753\",\n",
    "\"0000-0003-1626-0598\",\n",
    "\"0000-0003-1813-718X\",\n",
    "\"0000-0003-1976-8186\",\n",
    "\"0000-0003-2001-6440\",\n",
    "\"0000-0003-2162-1968\",\n",
    "\"0000-0003-2340-3462\",\n",
    "\"0000-0003-2967-2858\",\n",
    "\"0000-0003-3186-9000\",\n",
    "\"0000-0003-3459-5148\",\n",
    "\"0000-0003-3547-3257\",\n",
    "\"0000-0003-3654-5267\",\n",
    "\"0000-0003-4331-8695\",\n",
    "\"0000-0003-4939-1666\",\n",
    "\"0000-0003-4971-9991\",]"
   ]
  },
  {
   "cell_type": "code",
   "execution_count": 3,
   "id": "d32e0ca2",
   "metadata": {},
   "outputs": [],
   "source": [
    "Fachsuche=['Gender studies',\n",
    "'Gender equality',\n",
    "'Gender bias',\n",
    "'Gender history',\n",
    "'Gender equity',\n",
    "'Gender schema theory',\n",
    "'Gender role',\n",
    "'Gender gap',\n",
    "'Language and gender',\n",
    "'Doing gender',\n",
    "'Gender violence',\n",
    "'Gender justice',\n",
    "'Transgender',\n",
    "'Gender relations',\n",
    "'Gender analysis',\n",
    "'Gender identity',\n",
    "'Gender discrimination',\n",
    "'Gender disparity',\n",
    "'Male gender',\n",
    "'Gender balance',\n",
    "'Grammatical gender',\n",
    "'Gender dysphoria',\n",
    "'Gender mainstreaming',\n",
    "'Gender diversity',\n",
    "'Transgender Person',\n",
    "'Gender inequality',\n",
    "'Gender pay gap',\n",
    "'Transgender people',\n",
    "'Gender psychology',\n",
    "'Gender Identity Disorder',\n",
    "'Gender and development',\n",
    "'Transgender women']"
   ]
  },
  {
   "cell_type": "markdown",
   "id": "ce2731d8",
   "metadata": {},
   "source": [
    "Fachsuche=['']"
   ]
  },
  {
   "cell_type": "markdown",
   "id": "5d4dd4d0",
   "metadata": {},
   "source": [
    "\"0000-0001-5406-9458\"\"0000-0001-5449-4593\","
   ]
  },
  {
   "cell_type": "markdown",
   "id": "nWOX9dkvaZ97",
   "metadata": {
    "id": "nWOX9dkvaZ97"
   },
   "source": [
    "We use it to query the OpenAlex API for works that specified the ORCID URL within their metadata in the field '`authorships.author.orcid`'.\n",
    " Since the API uses [pagination](https://docs.openalex.org/api/get-lists-of-entities#pagination), we need to loop through all pages to get the complete result set."
   ]
  },
  {
   "cell_type": "code",
   "execution_count": 4,
   "id": "8b608640-96a8-47d1-9de7-b7d3f6fd5a47",
   "metadata": {
    "executionInfo": {
     "elapsed": 5,
     "status": "ok",
     "timestamp": 1643058187685,
     "user": {
      "displayName": "",
      "photoUrl": "",
      "userId": ""
     },
     "user_tz": -60
    },
    "id": "8b608640-96a8-47d1-9de7-b7d3f6fd5a47"
   },
   "outputs": [],
   "source": [
    "# OpenAlex endpoint to query for works\n",
    "OPENALEX_API_WORKS = \"https://api.openalex.org/works\"\n",
    "\n",
    "# query all works that are connected to orcid\n",
    "def query_openalex_for_person2works(orcid):\n",
    "    page = 1\n",
    "    max_page = 1\n",
    "    \n",
    "    while page <= max_page:\n",
    "        params = {'filter': 'authorships.author.orcid:'+orcid, 'page': page}\n",
    "        response = requests.get(url=OPENALEX_API_WORKS,\n",
    "                                params=params,\n",
    "                                headers= {'Accept': 'application/json'})\n",
    "        response.raise_for_status()\n",
    "        result=response.json()\n",
    "\n",
    "        # calculate max page number in first loop\n",
    "        if max_page == 1:\n",
    "            max_page = determine_max_page(result)\n",
    "        page = page + 1\n",
    "        yield result\n",
    "\n",
    "# calculate max number of result pages\n",
    "def determine_max_page(response_data):\n",
    "    item_count = response_data['meta']['count']\n",
    "    items_per_page = response_data['meta']['per_page']\n",
    "    max_page_ceil = item_count // items_per_page + bool(item_count % items_per_page)\n",
    "    return max_page_ceil\n",
    "\n",
    "\n",
    "# ---- example execution\n",
    "# list_of_pages=query_openalex_for_person2works(example_orcid)"
   ]
  },
  {
   "cell_type": "markdown",
   "id": "kHRO_LiJr-u_",
   "metadata": {
    "id": "kHRO_LiJr-u_"
   },
   "source": [
    "From the resulting list of works we extract and print out title and DOI. \n",
    "\n",
    "*Note: works that do not have a DOI assigned, will not be printed.*"
   ]
  },
  {
   "cell_type": "code",
   "execution_count": 5,
   "id": "1c36737c-4dcf-42d5-80e2-802f0a7a8326",
   "metadata": {
    "colab": {
     "base_uri": "https://localhost:8080/"
    },
    "executionInfo": {
     "elapsed": 516,
     "status": "ok",
     "timestamp": 1643058188197,
     "user": {
      "displayName": "",
      "photoUrl": "",
      "userId": ""
     },
     "user_tz": -60
    },
    "id": "1c36737c-4dcf-42d5-80e2-802f0a7a8326",
    "outputId": "fb849105-45c1-4abd-a6be-b6d4e3c567f4",
    "scrolled": true
   },
   "outputs": [],
   "source": [
    "# from the result pages we get from the OpenAlex API, extract the data about works\n",
    "def extract_works_from_page(page):\n",
    "    return [work for work in page.get('results') or []]\n",
    "\n",
    "# extract DOI from work\n",
    "def extract_doi(work):\n",
    "    doi=work.get('ids', {}).get('doi') or \"\"\n",
    "    doi_id=doi.replace(\"https://doi.org/\", \"\") if doi else doi\n",
    "    title=work.get('display_name', \"\")\n",
    "    concept=work.get('concepts')\n",
    "    return doi_id, title, concept\n",
    "\n",
    "def main_search(orcid):\n",
    "    global Error_count\n",
    "    # Abfrage der DOI Liste\n",
    "    result_doi=[]\n",
    "    count_doi=0\n",
    "    list_of_pages=query_openalex_for_person2works(orcid)\n",
    "    for page in list_of_pages or []:\n",
    "        works=extract_works_from_page(page)\n",
    "        for work in works or []:\n",
    "            doi,title,concept=extract_doi(work)\n",
    "            if doi:\n",
    "                add=[]\n",
    "                add.append(orcid)\n",
    "                add.append(doi)\n",
    "                add.append(title)\n",
    "                add_concept=[]\n",
    "                for item in concept:\n",
    "                # Sublevel einfügen, am Besten alle Level!\n",
    "                    all_concepts=[item['display_name'],'Level:'+str(item['level']),item['score']]\n",
    "                    add_concept.append(all_concepts)\n",
    "                add.append(add_concept)\n",
    "                result_doi.append(add)\n",
    "    # Beginn der Expertensuche            \n",
    "    dict_gesamt={}\n",
    "    dict_gesamt.update({'ID':orcid})\n",
    "    dict_gesamt.update({'Count DOI:':count_doi})\n",
    "    add=[]\n",
    "    dedub_add=[]\n",
    "    # Erstellen einer Liste von concepts aus der DOI Liste\n",
    "    for item in result_doi:\n",
    "        if orcid in item:\n",
    "            count_doi=count_doi+1\n",
    "            for item2 in item[3]:\n",
    "                new=item2[0]\n",
    "                add.append(new) \n",
    "        dict_gesamt.update({'Count DOI:':count_doi})\n",
    "    # Dedublizierung der concepts liste\n",
    "    for item in add:\n",
    "        if item not in dedub_add:\n",
    "            dedub_add.append(item)\n",
    "    # Scores für jedes concept entwickeln\n",
    "    for single_concept in dedub_add:\n",
    "        score_concept=0\n",
    "        concept_count=0\n",
    "        for item in result_doi:\n",
    "            for item2 in item[3]:\n",
    "                if single_concept in item2[0]:\n",
    "                    score_concept=score_concept+float(item2[2])\n",
    "                    concept_count=concept_count+1\n",
    "            if concept_count>0:\n",
    "                final_score=score_concept/concept_count\n",
    "                dict_gesamt.update({single_concept:final_score}) \n",
    "    print('#######',dict_gesamt)\n",
    "    # Fehlersuche. Suche nach unmöglichen scores.\n",
    "    dict_error=dict_gesamt.copy()\n",
    "    del dict_error['ID']\n",
    "    del dict_error['Count DOI:']\n",
    "    error_check=dict_error.values()\n",
    "    for item in error_check:\n",
    "        if item >1:\n",
    "            Error_count=Error_count+1\n",
    "            print('############Error#############')\n",
    "    # Abfrage nach Experten\n",
    "    check=0\n",
    "    expert=['### Orcid:', dict_gesamt['ID']]\n",
    "    for item in Fachsuche:\n",
    "        if item in dict_gesamt.keys() and dict_gesamt[item]>0.4:\n",
    "            check=1\n",
    "            print('Fach:', item,'Experte:',dict_gesamt['ID'],'Score:',dict_gesamt[item])\n",
    "            add=['Fach:'+item,'Score:', dict_gesamt[item]]\n",
    "            expert.append(add)\n",
    "    if check ==1:\n",
    "        list_experts.append(expert)"
   ]
  },
  {
   "cell_type": "code",
   "execution_count": 6,
   "id": "425b6e12",
   "metadata": {
    "scrolled": true
   },
   "outputs": [
    {
     "name": "stdout",
     "output_type": "stream",
     "text": [
      "####### {'ID': '0000-0001-5380-4449', 'Count DOI:': 0}\n",
      "####### {'ID': '0000-0001-5406-9458', 'Count DOI:': 315, 'Medicine': 0.6345258715057915, 'Psoriasis': 0.7017200244444444, 'Epidemiology': 0.54295541, 'Incidence (geometry)': 0.54802386875, 'Systematic review': 0.564053518, 'Disease': 0.3067633352, 'MEDLINE': 0.4617296972727272, 'Family medicine': 0.4089597612903226, 'Dermatology': 0.48653290230769247, 'Pathology': 0.1005983243188406, 'Physics': 0.11925157371428571, 'Political science': 0.1483437942857143, 'Law': 0.030372287666666664, 'Optics': 0.09048074416666667, 'Biology': 0.2256722616086957, 'Enhancer': 0.76068138, 'Alpha chain': 0.6404971, 'Transcription factor': 0.488705815, 'Molecular biology': 0.59607356, 'DNA-binding protein': 0.5112319, 'Gene': 0.2297282303846154, 'Interleukin 10 receptor, alpha subunit': 0.63363745, 'Gene expression': 0.403453795, 'Transcription (linguistics)': 0.4428499, 'Regulation of gene expression': 0.43804314499999997, 'G alpha subunit': 0.37397757, 'Genetics': 0.19443649062499999, 'Protein subunit': 0.333499375, 'Linguistics': 0.0, 'Philosophy': 0.1310568878, 'mTORC1': 0.8145185, 'Transfection': 0.5321469, 'Nutrient sensing': 0.5299697, 'Endocrinology': 0.4273068360000001, 'Insulin': 0.4966593048666667, 'Internal medicine': 0.23160237272727274, 'Insulin-like growth factor': 0.44216068, 'Signal transduction': 0.33317059, 'Growth factor': 0.36412089999999997, 'Cell biology': 0.4333579566666666, 'PI3K/AKT/mTOR pathway': 0.30340144, 'Biochemistry': 0.06898742583333334, 'Receptor': 0.32496529, 'Allergy': 0.3140075651323529, 'Contact urticaria': 0.49394804, 'Environmental health': 0.36295048692592596, 'Contact allergy': 0.6380467225, 'Occupational disease': 0.49621877000000003, 'Occupational medicine': 0.4557183190909091, 'Occupational exposure': 0.4481791183333334, 'Health care': 0.44033831833333337, 'Contact dermatitis': 0.42259341668518524, 'Immunology': 0.14259312157333334, 'Economics': 0.009980008823529412, 'Economic growth': 0.015251283333333332, 'Atopy': 0.7574807233333334, 'FOXP3': 0.49768965249999997, 'microRNA': 0.633029575, 'Immune system': 0.2598993, 'Regulatory T cell': 0.5563621, 'Exosome': 0.50446097, 'Microvesicles': 0.60902631, 'Sensitization': 0.5929790369999999, 'T cell': 0.45671924999999997, 'IL-2 receptor': 0.07651281333333333, 'Filaggrin': 0.7571065166666666, 'Atopic dermatitis': 0.5182710745454545, 'Odds ratio': 0.618929726, 'Risk factor': 0.4468861525, 'Confidence interval': 0.46754629333333325, 'Genotype': 0.50903195, 'Stimulation': 0.564317, 'Growth hormone receptor': 0.5265078, 'Insulin receptor': 0.47311875, 'Hormone': 0.44851828, 'Longevity': 0.41030765, 'Growth hormone': 0.40503975999999997, 'Insulin resistance': 0.587223622, 'Gerontology': 0.2601983433333333, 'Allergic contact dermatitis': 0.6119638496428571, 'Allergen': 0.520087785, 'Anxiety': 0.5882073733333334, 'Depression (economics)': 0.57320025, 'Psychosocial': 0.6426355, 'Quality of life (healthcare)': 0.59122975, 'Dermatology Life Quality Index': 0.58485292, 'Hand eczema': 0.5755614544444444, 'Population': 0.44354331857142854, 'Mental health': 0.5305978233333333, 'Psychiatry': 0.22188051450000001, 'Clinical psychology': 0.33279563666666667, 'Nursing': 0.1655993736923077, 'Macroeconomics': 0.0, 'Rehabilitation': 0.5769623749999999, 'Physical therapy': 0.35790277117647057, 'Prospective cohort study': 0.5313559266666666, 'Cohort': 0.482851619, 'Cohort study': 0.444368155, 'Outpatient clinic': 0.45054236, 'Emergency medicine': 0.38842579, 'Surgery': 0.3090196604242424, 'ADAM10': 0.85679865, 'Ectodomain': 0.8372368, 'CX3CL1': 0.80931467, 'CXCL16': 0.7610579, 'Transmembrane protein': 0.6070211, 'Amyloid precursor protein secretase': 0.5859406, 'Alpha secretase': 0.53966016, 'Chemokine': 0.31981037749999996, 'Chemistry': 0.25797693151282053, 'Disintegrin': 0.3612578, 'Amyloid precursor protein': 0.44192660000000006, 'Matrix metalloproteinase': 0.21357125, 'Metalloproteinase': 0.15838918, 'Chemokine receptor': 0.109123915, \"Alzheimer's disease\": 0.052699357, 'Occupational Dermatitis': 0.448615444, 'Occupational safety and health': 0.44128693375000005, 'Guideline': 0.6824357900000001, 'Tundra': 0.65765804, 'Soil water': 0.6193692, 'Soil carbon': 0.5858945, 'Silt': 0.54235816, 'Environmental chemistry': 0.504418925, 'Fractionation': 0.52460015, 'Organic matter': 0.51217365, 'Soil organic matter': 0.49619895, 'Total organic carbon': 0.41026956, 'Soil science': 0.28775805, 'Geology': 0.117124365, 'Geomorphology': 0.08539984, 'Organic chemistry': 0.10867967175, 'Oceanography': 0.0, 'Arctic': 0.0, 'Skin cancer': 0.6643877838095239, 'Actinic keratosis': 0.7015310283333333, 'Basal cell carcinoma': 0.6901649719999999, 'Actinic keratoses': 0.58759988, 'Basal cell': 0.5026059085714285, 'Melanoma': 0.538850145, 'Cancer': 0.32921314851851846, 'Cancer research': 0.28150316999999997, 'Hand dermatitis': 0.5784498675, 'Irritant contact dermatitis': 0.6126292816666665, 'Adverse effect': 0.5057093850000001, 'Hand washing': 0.50835906, 'Irritation': 0.6112914122222223, 'Hygiene': 0.3910697125, 'Position paper': 0.540759575, 'Comparability': 0.54752526, 'Legislation': 0.6293077899999999, 'European union': 0.4794881183333333, 'Business': 0.25073879906249996, 'Economic policy': 0.0, 'Mathematics': 0.08244156857142858, 'Combinatorics': 0.0, 'Offspring': 0.7733654, 'Genetically modified mouse': 0.47804695, 'Systemic circulation': 0.41522208, 'Transgene': 0.40547842, 'Physiology': 0.4005893866666667, 'Pregnancy': 0.5130693433333333, 'Body mass index': 0.68048435, 'Acne': 0.43455398333333334, 'Metabolic syndrome': 0.49564010000000003, 'Menarche': 0.42726207, 'Diabetes mellitus': 0.4236066733333333, 'Transepidermal water loss': 0.8542191185714285, 'Provocation test': 0.49752167999999997, 'Alternative medicine': 0.09659826000000002, 'Stratum corneum': 0.31879431222222215, 'Promoter': 0.514503, 'Interleukin 12 receptor, beta 1 subunit': 0.53100726, 'Regulatory sequence': 0.48056558, \"5' flanking region\": 0.4141434, 'Interleukin-21 receptor': 0.14254889, 'Intraclass correlation': 0.80317247, 'Concordance': 0.7114072, \"Cohen's kappa\": 0.6543431, 'Reliability (semiconductor)': 0.6051546, 'Kappa': 0.5764842, 'Statistics': 0.101744965, 'Psychometrics': 0.10450935, 'Power (physics)': 0.24509898, 'Geometry': 0.0, 'Quantum mechanics': 0.0, 'Cosmetics': 0.5857292390000001, 'Hair dyes': 0.67744201, 'Dyeing': 0.14431666, 'Septum secundum': 0.8502548, 'Pulmonary hypertension': 0.83524233, 'Cardiology': 0.73141825, 'Pulmonary artery': 0.6086054, 'Eisenmenger syndrome': 0.4152369, 'Intervention (counseling)': 0.5476317516666668, 'Educational program': 0.50856054, 'Severity of illness': 0.5199855, 'Correlation': 0.51715225, 'Predictive value': 0.5104286, 'Gold standard (test)': 0.46666163, 'Cross-sectional study': 0.5225798, 'Dry skin': 0.5441593250000001, 'Tolerability': 0.84962696, 'Tacrolimus': 0.8327727, 'Transplantation': 0.07967287, 'Epigenetics': 0.5838621333333334, 'Milk allergy': 0.4801166, 'Thymic stromal lymphopoietin': 0.45880806, 'Cellular differentiation': 0.44432366, 'Food allergy': 0.417530535, 'Patch testing': 0.5784658229999999, 'Certification': 0.52348302, 'Test (biology)': 0.5576945400000001, 'Paleontology': 0.0, 'Coronavirus disease 2019 (COVID-19)': 0.33146626375, 'Outbreak': 0.3579758, 'Task force': 0.5924944433333333, '2019-20 coronavirus outbreak': 0.58560839, 'Severe acute respiratory syndrome coronavirus 2 (SARS-CoV-2)': 0.5859293999999999, 'Statement (logic)': 0.48696432, 'Coronavirus': 0.3470267944444444, 'Virology': 0.19788617, 'Infectious disease (medical specialty)': 0.04475886375, 'Public administration': 0.03820738571428572, 'Percentile': 0.51876354, 'Confounding': 0.4984839, 'Case-control study': 0.45011224, 'Smoking cessation': 0.42657328, 'Statutory law': 0.5889794728571428, 'Member state': 0.44058319999999995, 'Member states': 0.28595966, 'Asthma': 0.8595409, 'Acetaminophen': 0.77574205, 'Aspirin': 0.6939779, 'Pathophysiology of asthma': 0.5101814, 'In utero': 0.44718325, 'Pediatrics': 0.28271062333333336, 'Intensive care medicine': 0.4683947899999999, 'Anesthesia': 0.26903766500000004, 'Fetus': 0.292207565, 'Protein kinase B': 0.47943917, 'Occlusion': 0.48083686999999997, 'Skin barrier': 0.49402865333333335, 'Gynecology': 0.6422051726666668, 'Psychological intervention': 0.5374159681818181, 'Hidradenitis suppurativa': 0.856424685, 'Proinflammatory cytokine': 0.5666774, 'Interleukin 17': 0.48876595, 'RAR-related orphan receptor gamma': 0.48258367, 'Hair follicle': 0.4180179, 'Inflammation': 0.4081427, 'Disfigurement': 0.44232738, 'Occupational cancer': 0.42883923000000007, 'Keratosis': 0.5172994, 'Skin care': 0.4786144525, 'Acoustics': 0.388079104, 'Vortex': 0.56540114, 'Flow (mathematics)': 0.5370312850000001, 'Flutter': 0.62687978, 'Flow visualization': 0.490457265, 'Mechanics': 0.3946993125, 'Downstream (manufacturing)': 0.54051447, 'Voltage': 0.222568642, 'Materials science': 0.4355454797058823, 'Aerodynamics': 0.242708775, 'Engineering': 0.10927310706896552, 'Operations management': 0.01773699375, 'Gestational diabetes': 0.49240792, 'Low birth weight': 0.4448907, 'Placenta': 0.4215651, 'Bioinformatics': 0.35880294, 'Obstetrics': 0.16384226, 'Gestation': 0.38731944500000004, 'Skin irritation': 0.6340076437500001, 'German': 0.614244570909091, 'Quality assurance': 0.4805255466666667, 'Task (project management)': 0.45431423, 'Quality (philosophy)': 0.44433436000000004, 'Geography': 0.19787061142857146, 'External quality assessment': 0.03152186666666667, 'Archaeology': 0.0, 'Systems engineering': 0.0, 'Patch test': 0.6435828663157895, 'Retrospective cohort study': 0.4642691366666667, 'Chronic stress': 0.63026965, 'Burnout': 0.61789256, 'Occupational stress': 0.51527643, 'Sick leave': 0.5479157733333333, 'Shape-memory alloy': 0.8444636, 'Composite number': 0.730477, 'Composite material': 0.215028778875, 'Alloy': 0.55330825, 'Structural engineering': 0.3506652233333334, 'White adipose tissue': 0.52069885, 'Adipose tissue': 0.35112367499999997, 'Liability': 0.50932683, 'Public health': 0.44580295999999997, 'Finance': 0.029072185333333334, 'History': 0.0, 'Die (integrated circuit)': 0.4193182, 'Nanotechnology': 0.12981188200000002, 'Context (archaeology)': 0.6326532766666667, 'Etiology': 0.56327897, 'Irritability': 0.6603188066666666, 'Forearm': 0.675730095, 'Menopause': 0.0, 'Allele': 0.5587444, 'Polymorphism (computer science)': 0.46254987, 'Gene polymorphism': 0.44657838, 'p-Phenylenediamine': 0.4689502, 'Skin reaction': 0.4404291, 'Gastroenterology': 0.32311141, 'Sun exposure': 0.44683362666666665, 'Ultraviolet radiation': 0.506652452, 'International agency': 0.44930744, 'Sun protection': 0.5725320525, 'Radiochemistry': 0.072577048, 'Keratinocyte': 0.59935045, 'Oncology': 0.382469775, 'In vitro': 0.0, 'Nickel': 0.8242051400000001, 'Corrosion': 0.58755815, 'Methane sulfonate': 0.57671237, 'Amorphous solid': 0.57440877, 'Metallurgy': 0.204281375, 'Substrate (aquarium)': 0.51572543, 'Sulfonate': 0.50802016, 'Plating (geology)': 0.5002341, 'Electroless nickel plating': 0.47956032, 'Deposition (geology)': 0.47961657, 'Chemical engineering': 0.517781135, 'Coating': 0.4566639, 'Methane': 0.495604915, 'Inorganic chemistry': 0.2571018233333333, 'Electroless plating': 0.3219093, 'Electroplating': 0.23368299, 'Layer (electronics)': 0.22391458333333333, 'Geophysics': 0.0, 'Mutant': 0.0, 'Sediment': 0.0, 'Sodium': 0.0, 'Barrier function': 0.5838017, 'Skin Aging': 0.43362778, 'Mathematical optimization': 0.0, 'Heterojunction': 0.6762866000000001, 'Fabrication': 0.59302509, 'Metastability': 0.546654025, 'MOSFET': 0.638004535, 'Optoelectronics': 0.37423256400000005, 'Electron mobility': 0.474369095, 'Saturation (graph theory)': 0.430842, 'Analytical Chemistry (journal)': 0.38775038, 'Electrical engineering': 0.22334588500000002, 'Transistor': 0.21410586999999998, 'Chromatography': 0.10587193333333333, 'Silicon-germanium': 0.50710964, 'Germanium': 0.44138893, 'Silicon': 0.47179477000000003, 'Electronic engineering': 0.33102345, 'Demography': 0.43727633, 'Sociology': 0.012384031428571429, 'Dentistry': 0.3929561833333333, \"Workers' compensation\": 0.7326888, 'Compensation (psychology)': 0.70347786, 'Retraining': 0.67522883, 'Work (physics)': 0.49848000500000006, 'Harmonization': 0.49997354, 'Surrender': 0.47438577, 'Psychology': 0.31996182, 'International trade': 0.12913191, 'Mechanical engineering': 0.09342730778571429, 'Psychoanalysis': 0.0, 'Christian ministry': 0.63197142, 'Thoracoscopy': 0.85094094, 'Thoracotomy': 0.78129166, 'Esophagus': 0.49823870000000003, 'Endoscopy': 0.6004426, 'Diaphragmatic breathing': 0.52630424, 'Enucleation': 0.51647663, 'Laparoscopy': 0.448640675, 'Radiology': 0.45320518, 'Environmental science': 0.425275844, 'Teledermatology': 0.945428, 'Telemedicine': 0.6483537, 'Medical diagnosis': 0.58815193, 'Tandem': 0.6782214, 'Piezoelectricity': 0.5635538250000001, 'Visualization': 0.44871217, 'Energy (signal processing)': 0.42212448, 'Computer science': 0.26267304441176476, 'Artificial intelligence': 0.16984601142857142, 'Semipermeable membrane': 0.5693792, 'Erythema': 0.5186262233333333, 'Dermis': 0.436661, 'Membrane': 0.37029678, 'Antibiotics': 0.4873173, 'Microbiology': 0.1201886975, 'Colonisation': 0.77663314, 'Impetigo': 0.6435933, 'Staphylococcus aureus': 0.59177605, 'Mupirocin': 0.63807714, 'Methicillin-resistant Staphylococcus aureus': 0.5435159, 'Skin infection': 0.41344804, 'Colonization': 0.2785143, 'Bacteria': 0.0, 'Distress': 0.44900143, 'Foot (prosody)': 0.7160716, 'Potassium dichromate': 0.5316634, 'Expert witness': 0.58936465, 'Causality (physics)': 0.45761135, 'Cell growth': 0.54620516, 'Downregulation and upregulation': 0.50247264, 'Melanocyte': 0.4923631, 'MAPK/ERK pathway': 0.47808668, 'Tumor progression': 0.4476633, 'Kinase': 0.32370424, 'Test preparation': 0.48762146, 'Dilution': 0.43086398, 'Thermodynamics': 0.11996843333333333, 'Manufacturing engineering': 0.0, 'Occupational injury': 0.4367797, 'Human factors and ergonomics': 0.24198812, 'Medical emergency': 0.239724554, 'Poison control': 0.16937599, 'Dosimetry': 0.47400003500000004, 'Dosimeter': 0.7309309233333333, 'Toxicology': 0.39425646999999997, 'Nuclear medicine': 0.2651190557142857, 'Postprandial': 0.74553317, 'Glutamine': 0.71861, 'Hyperinsulinemia': 0.6960473, 'Clinical nutrition': 0.5885462, 'Obesity': 0.5405994, 'Overweight': 0.5305833, 'Weight loss': 0.44707105, 'Amino acid': 0.2479074, 'Stigma (botany)': 0.46887708, 'Public relations': 0.41869731, 'Federal state': 0.4125907, 'Medical education': 0.3287403, 'Contamination': 0.77128696, 'Enterobacter': 0.5072805, 'Food contaminant': 0.4451272, 'Food science': 0.3337250075, 'Ecology': 0.0, 'Escherichia coli': 0.045939103, 'Acute kidney injury': 0.5498229833333333, 'Renal replacement therapy': 0.68594049, 'Kidney disease': 0.59599924, 'Modalities': 0.44524145, 'Social science': 0.0, 'Wrist': 0.53645045, 'Inducer': 0.9487735, 'Operating system': 0.028750781428571428, 'Perception': 0.5151442, 'Qualitative research': 0.49410160000000003, 'Risk perception': 0.4460922, 'Neuroscience': 0.24233975, 'Croatian': 0.9135867, 'Medical physics': 0.3526824533333333, 'Position statement': 0.8649028, 'Ultraviolet': 0.5050312733333334, 'Position (finance)': 0.48692644, 'Radiation protection': 0.4670901, 'Radiation': 0.5469044366666667, 'Cosmetology': 0.4482982, 'Art': 0.18533693015000002, 'Visual arts': 0.0, 'Bronchopleural fistula': 0.7327399, 'Pneumonectomy': 0.1760805, 'Lung': 0.366492625, 'Referral': 0.5582364, 'Standardization': 0.4915393166666666, 'Data cleansing': 0.48597009999999996, 'Biomedical engineering': 0.35289061, 'Metric (unit)': 0.0, 'Data quality': 0.0, 'Humanities': 0.3245394034, 'Enforcement': 0.59608555, 'Venereology': 0.7726375120000001, 'Epistemology': 0.0, 'Nickel allergy': 0.831833, 'Cobalt': 0.67910035, 'Directional antenna': 0.6384369, 'Conformal antenna': 0.5913785, 'Planar': 0.5124143, 'Bandwidth (computing)': 0.5045501, 'Automotive industry': 0.50377387, 'Biconical antenna': 0.498523, 'Wireless': 0.49664718, 'Narrowband': 0.4830647, 'Electrical impedance': 0.47125056, 'Slot antenna': 0.46028346, 'Automotive engineering': 0.33671755, 'Aerospace engineering': 0.1635582, 'Antenna (radio)': 0.23008668, 'Telecommunications': 0.22580633, 'Computer graphics (images)': 0.0, 'Isotretinoin': 0.92693985, 'Intensive care': 0.5029083763636364, 'Dialysis': 0.5487727, 'Sepsis': 0.49503273, 'Extracorporeal': 0.4396461, 'Critically ill': 0.41504639, 'Reimbursement': 0.7316190600000001, 'Specialty': 0.5096564, 'Documentation': 0.45529580999999997, 'Management': 0.115757525, 'Programming language': 0.0, 'Epiglottis': 0.87567806, 'Fold (higher-order function)': 0.5773543, 'Epiglottitis': 0.5630852, 'Croup': 0.5445767, 'Radiography': 0.42891958, 'Larynx': 0.39991075, 'Anatomy': 0.10409732666666667, 'Dosing': 0.67451423, 'Pharmacokinetics': 0.65611625, 'Drug': 0.57243943, 'Pharmacodynamics': 0.5612106, 'Renal function': 0.5351086, 'Pharmacology': 0.31370828333333334, 'Phototype': 0.9772408, 'Multivariate analysis': 0.4258188, 'Logistic regression': 0.54202977, 'Dirt': 0.8308166, 'Cleanser': 0.82038898, 'Apprenticeship': 0.510234365, 'Identification (biology)': 0.44629157, 'Botany': 0.0, 'Broad spectrum': 0.4423843, 'Combinatorial chemistry': 0.0, 'Exposition (narrative)': 0.56007299, 'Literature': 0.0, 'Interleukin 5 receptor alpha subunit': 0.70596063, 'Alpha (finance)': 0.4517391, 'Interleukin': 0.50969827375, 'Cytokine': 0.1393896, 'Construct validity': 0.0, 'Patient satisfaction': 0.0, 'Immunopathology': 0.47912595, 'Reproducibility': 0.5117838, 'In vivo': 0.57005698, 'Biotechnology': 0.0, 'Audit': 0.47247976, 'Transparency (behavior)': 0.4395756, 'Accounting': 0.0, 'Series (stratigraphy)': 0.44394648, 'Deformation (meteorology)': 0.5957774, 'Range (aeronautics)': 0.5501896, 'Suction': 0.5395578, 'Significant difference': 0.4815955, 'Algorithm': 0.211960135, 'Simulation': 0.38439298, 'Obligation': 0.5764325, 'Off-label use': 0.5674987, 'Limiting': 0.51662236, 'Medical prescription': 0.48774296, 'Flexibility (engineering)': 0.43664762, 'Actuarial science': 0.3270377, 'Food allergens': 0.5986967, 'Ingestion': 0.5927481, 'Anaphylaxis': 0.5252611, 'Declaration': 0.491441425, 'Food safety': 0.4348686, 'Risk analysis (engineering)': 0.345888075, 'Mediastinum': 0.8676414, 'Radiation therapy': 0.75208974, 'Thymoma': 0.55900156, 'Seminoma': 0.5139641, 'Metastasis': 0.48361292, 'Chemotherapy': 0.44627976, 'Anterior mediastinum': 0.41611364, 'Pigment': 0.59310025, 'Phthalocyanine': 0.5574567, 'Blue light': 0.46605334, 'Copper phthalocyanine': 0.43332517, 'Lotion': 0.41245782, 'Nuclear chemistry': 0.33446187, 'Interquartile range': 0.64564266, 'Poisson regression': 0.490049, 'Respiratory system': 0.4748766, 'Respiratory failure': 0.41974854, 'COPD': 0.41865373, 'Personal protective equipment': 0.52951098, 'Cutaneous lymphoma': 0.55803937, 'Lymphoma': 0.34237868, 'Mycosis fungoides': 0.14067957, 'Amputation': 0.8389529, 'Diabetic foot': 0.604919435, 'Diabetic foot ulcer': 0.56685627, 'Observational study': 0.5440923, 'Bayesian probability': 0.42424846, 'Hazardous waste': 0.6328053, 'Exposure assessment': 0.51419735, 'Inhalation exposure': 0.49361074, 'Web of science': 0.4325968, 'Waste management': 0.30826735, 'Inhalation': 0.35602986999999997, 'Meta-analysis': 0.34214221, 'Nuclear engineering': 0.56112885, 'Loop (graph theory)': 0.5299956, 'Void (composites)': 0.49851465, 'Porosity': 0.43698847500000004, 'Process engineering': 0.39404157, 'Occupational therapy': 0.41479075, 'Chemical vapor deposition': 0.74101824, 'Hall effect': 0.6887052, 'Doping': 0.49895406, 'Diffraction': 0.4869543, 'Atmospheric temperature range': 0.43753693, 'Electrical resistivity and conductivity': 0.18181115, 'Meteorology': 0.04563588, 'Perioperative': 0.7852793, 'Hepatocellular carcinoma': 0.5996088, 'Hepatectomy': 0.54905367, 'Resection': 0.54863286, 'Blood loss': 0.5071547, 'Hepatocellular adenoma': 0.4160145, 'Adenoma': 0.41311824, 'General surgery': 0.38019067, 'Phenol': 0.4869686, 'Otorhinolaryngology': 0.5015695600000001, 'Epichlorohydrin': 0.93002605, 'Plantar fasciitis': 0.96670955, 'Heel': 0.7227155, 'Ankle': 0.6491415, 'Randomized controlled trial': 0.404763498, 'Manual therapy': 0.596213, 'Prom': 0.50092904, 'Foot Orthoses': 0.41039395, 'Term (time)': 0.0, 'Physical medicine and rehabilitation': 0.45305614499999997, 'Achalasia': 0.88282967, 'Pulmonary sequestration': 0.6001181, 'Bronchopulmonary sequestration': 0.4384292, 'Cosmetic industry': 0.48412427, 'Directive': 0.43877888, 'German population': 0.6437559, 'CINAHL': 0.63354534, 'Coping (psychology)': 0.58585083, 'Critical appraisal': 0.5177242, 'PsycINFO': 0.5123602, 'Scopus': 0.64058995, 'Grey literature': 0.5066072, 'Protocol (science)': 0.48999282000000005, 'Adipogenesis': 0.84368, 'Consumption (sociology)': 0.5255598, 'Milk fat': 0.47097898, 'Linseed oil': 0.0, 'Aesthetics': 0.09394376, 'Certificate': 0.5366143, 'Quantitative trait locus': 0.7417973, 'Linkage (software)': 0.6324664, 'Trait': 0.55873877, 'Sibling': 0.5330464, 'Chromosome': 0.5318268, 'Genetic linkage': 0.48925138, 'Lod score': 0.47588363, 'Nuclear family': 0.4525097, 'Data set': 0.428214, 'Gene mapping': 0.27850085, 'Developmental psychology': 0.0, 'Anthropology': 0.0, 'Curriculum': 0.46039125, 'Pedagogy': 0.087335885, 'Motion sickness': 0.91977376, 'Neural correlates of consciousness': 0.70134026, 'Nausea': 0.7013043, 'Motion (physics)': 0.44018677, 'Audiology': 0.3264637, 'Cognition': 0.059436947, 'Catalysis': 0.9017261, 'Selectivity': 0.76955783, 'Sol-gel': 0.53900856, 'Oxide': 0.50284237, 'Silica gel': 0.50158477, 'Dehydration': 0.47009775, 'Homogeneous': 0.4628557, 'Perspective (graphical)': 0.4492421, 'Beauty': 0.7179772, 'Histopathological examination': 0.5358286, 'sed': 0.5818568, 'Irradiance': 0.56691813, 'Sunlight': 0.44822532, 'Environmental protection': 0.32884258, 'Astronomy': 0.0, 'Reduction (mathematics)': 0.7053095, 'Natural rubber': 0.6349139, 'Sun protection factor': 0.7026299, 'Recreation': 0.56671226, 'Informed consent': 0.7261122, 'Delphi method': 0.60854065, 'Delphi': 0.5734552749999999, 'Sunburn': 0.87262994, 'Scale (ratio)': 0.4178699, 'Cartography': 0.0, 'Database': 0.47633985800000006, 'Information retrieval': 0.36417957, 'World Wide Web': 0.25978611, 'Computer network': 0.5697725, 'Internet protocol suite': 0.5618842, 'Data transmission': 0.5523492, 'Suite': 0.52400386, 'Transmission Control Protocol': 0.51091856, 'Distributed computing': 0.49928784, 'Transfer (computing)': 0.42419326, 'The Internet': 0.08769557, 'Network packet': 0.0, 'Health professionals': 0.5584432, 'Hinge': 0.7442532, 'Vibration': 0.5753133, 'Aeroelasticity': 0.53401214, 'Bending': 0.52752334, 'Energy harvesting': 0.4825172, 'Nonlinear system': 0.45188013, 'Revolute joint': 0.43278408, 'Mechanical energy': 0.41749296, 'Constraint (computer-aided design)': 0.10008463, 'Metformin': 0.4391779, 'Lithography': 0.73623025, 'Photonics': 0.5813038, 'Photonic crystal': 0.4931895, 'Immersion lithography': 0.44725823, 'Photolithography': 0.41676188, 'Resist': 0.17394346, 'Sonne': 0.54142827, 'Cruise': 0.0, 'Random error': 0.6693967, 'Systematic error': 0.4975479, 'Humidity': 0.4757347, 'Animal science': 0.33237326, 'Umwelt': 0.54420274, 'Internet privacy': 0.37050495, 'Session (web analytics)': 0.45405755000000003, 'Productivity': 0.42171645, 'Agency (philosophy)': 0.4454235, 'SAFER': 0.5534157, 'Computer security': 0.0, 'Unemployment': 0.5057211, 'Stock (firearms)': 0.463486, 'Sustainable development': 0.43965292, 'Advertising': 0.0, 'Minimal clinically important difference': 0.7921721, 'Work productivity': 0.62766397, 'Cutaneous Sarcoidosis': 0.43254906, 'Sarcoidosis': 0.289761695, 'Pustulosis': 0.65693384, 'Concomitant': 0.4964102, 'Osteomyelitis': 0.0, 'Osteitis': 0.0, 'SNOMED CT': 0.982838025, 'Terminology': 0.6872377350000001, 'Systematized Nomenclature of Medicine': 0.61697614, 'Interoperability': 0.508476675, 'Exacerbation': 0.51559347, 'Multidisciplinary approach': 0.4730346, 'Usability': 0.48026776, 'Feeling': 0.43456195, 'Social psychology': 0.12905228, 'Human–computer interaction': 0.0, 'Empowerment': 0.49533167, 'Carriage': 0.95443857, 'Broth microdilution': 0.55242014, 'Cephalosporin': 0.47116858, 'Beta-lactamase': 0.4221254, 'Minimum inhibitory concentration': 0.08089551, 'Preprint': 0.45596784, 'Information model': 0.42133465, 'Call to action': 0.77167636, 'Action (physics)': 0.5518999, 'Burden of disease': 0.5366079, 'Marketing': 0.0805985, 'Cinnamomum zeylanicum': 0.9616284, 'Fructosamine': 0.8908335, 'Type 2 diabetes': 0.4983523, 'Type 2 Diabetes Mellitus': 0.45578566, 'Glycogen': 0.436273, 'Traditional medicine': 0.38058516, 'Essential oil': 0.0, 'Pandemic': 0.7114116, 'Physical activity': 0.49535882, 'Reporting bias': 0.41043502, 'Risk assessment': 0.4593428, 'Aggravating Factor': 0.55492866, 'Socioeconomic status': 0.5078228}\n"
     ]
    },
    {
     "name": "stdout",
     "output_type": "stream",
     "text": [
      "####### {'ID': '0000-0001-5449-4593', 'Count DOI:': 34, 'Biology': 0.7579469724242425, 'Saccharomyces cerevisiae': 0.6400680464, 'Cell biology': 0.567886374074074, 'Signal transduction': 0.49441865454545453, 'TOR signaling': 0.45588772, 'ASK1': 0.46630967, 'Kinase': 0.45080165, 'Protein kinase A': 0.430043698, 'Protein kinase C': 0.4604346333333334, 'Yeast': 0.5052071942105263, 'Biochemistry': 0.43648181666666663, 'Mitogen-activated protein kinase kinase': 0.3298098566666667, 'Formins': 0.7833252725000001, 'Hypha': 0.6013083475, 'Tip growth': 0.5994700500000001, 'Morphogenesis': 0.5223969833333333, 'Mutant': 0.5225844629411764, 'Cell polarity': 0.5630540399999999, 'Actin': 0.4455779939999999, 'Fungal protein': 0.4894607766666667, 'Actin cytoskeleton': 0.38267656000000005, 'Cytoskeleton': 0.3165084071428571, 'Botany': 0.1855292, 'Genetics': 0.3640302689473684, 'Gene': 0.3241019549130435, 'Pollen': 0.043456965, 'Pollination': 0.0, 'Cell': 0.43049750462745107, 'Pollen tube': 0.08691393, 'Kluyveromyces lactis': 0.8817509371428571, 'Complementation': 0.6763960866666666, 'Cyclin-dependent kinase 7': 0.5293549, 'Open reading frame': 0.48406783, 'Protein-fragment complementation assay': 0.46944438, 'Peptide sequence': 0.37034014, 'Cyclin-dependent kinase 2': 0.25377622, 'Cytokinesis': 0.854640565, 'Septin': 0.7015708300000001, 'Ingression': 0.41918862, 'Cell division': 0.255738794, 'GTPase': 0.527371952857143, 'Phenotype': 0.51485864, 'GTPase-activating protein': 0.48565176666666665, 'G protein': 0.2809427233333333, 'Isozyme': 0.59746087, 'Function (biology)': 0.482169135, 'Chemical genetics': 0.5181552, 'Enzyme': 0.26470987919999994, 'Computational biology': 0.4665979166666667, 'Proteomics': 0.41201994, 'Small molecule': 0.0, 'Protein kinase domain': 0.54484545, 'c-Raf': 0.506431775, 'Mutation': 0.4506067825000001, 'Cyclin-dependent kinase 9': 0.4445158, 'MAP2K7': 0.42606086, 'MAP kinase kinase kinase': 0.4113404, 'Synteny': 0.5952102, 'Multinucleate': 0.5370736, 'Genome': 0.5028731, 'Model organism': 0.41240048, 'Microbiology': 0.27797704000000006, 'Effector': 0.5853454, 'Green fluorescent protein': 0.5043650550000001, 'Kluyveromyces': 0.7488511672727273, 'Bimolecular fluorescence complementation': 0.5144776249999999, 'Heterologous': 0.41317284, 'Manduca sexta': 0.7920128, 'V-ATPase': 0.6980913, 'Protein subunit': 0.627301035, 'ATPase': 0.63259685, 'Cytosol': 0.4741513, 'Proton transport': 0.4450351, 'Biophysics': 0.3885938, 'Membrane': 0.14259196000000002, 'Larva': 0.0, 'Endocytosis': 0.70274991, 'Exocytosis': 0.66825445, 'Intracellular': 0.4981675, 'Cell membrane': 0.46978867, 'Diacylglycerol kinase': 0.7346361, 'Cysteine': 0.53792566, 'Mutagenesis': 0.538366525, 'Site-directed mutagenesis': 0.4353264, 'Staurosporine': 0.42725182, 'C2 domain': 0.47623542, 'Polarity (international relations)': 0.6401261, 'Vesicle': 0.6258149, 'Budding': 0.5570997, 'Cytoplasm': 0.5299265, 'Secretory pathway': 0.41773465, 'Secretion': 0.14774817, 'Golgi apparatus': 0.13982883, 'Endoplasmic reticulum': 0.0, 'Tetrad': 0.4239508, 'Tyrosine': 0.4979627, 'Receptor': 0.27430674, 'Yeast in winemaking': 0.5011349, 'Acetate kinase': 0.4887569, 'Fermentation': 0.411715, 'Escherichia coli': 0.0, 'Autophagy': 0.5744773, 'Mitophagy': 0.56793916, 'Mitochondrion': 0.49332685, 'Rac GTP-Binding Proteins': 0.42479575, 'CDC42': 0.52394623, 'Small GTPase': 0.450444135, 'RAC1': 0.563275485, 'Apoptosis': 0.0, 'Allele': 0.45670697, 'Phosphorylation': 0.35074762333333337, 'Crosstalk': 0.548686, 'Guanine nucleotide exchange factor': 0.5430945, 'Snf3': 0.45048568, 'Sphingolipid': 0.4494901, 'Physics': 0.0, 'Optics': 0.0, 'Cell wall': 0.7126575, 'Sugar': 0.5016942, 'Polysaccharide': 0.46958867, 'Glyoxylate cycle': 0.6105811, 'Transactivation': 0.55621123, 'Dehydrogenase': 0.49267203, 'Peroxisome': 0.48432648, 'NAD+ kinase': 0.45433667, 'Glycerol-3-phosphate dehydrogenase': 0.44458407, 'Isocitrate dehydrogenase': 0.42857647, 'Promoter': 0.41256112, 'Transcription factor': 0.4050658, 'Gene expression': 0.30583137, 'Chitin synthase': 0.41913196, 'Chitin': 0.35867859, 'Chitosan': 0.0, 'Sporangium': 0.7245257, 'Centrosome': 0.51452965, 'Filamentous fungus': 0.4993031, 'Spore': 0.6866477666666667, 'Spindle pole body': 0.45778906, 'Spindle apparatus': 0.1948117, 'Cell cycle': 0.04753697, 'Regulator': 0.4990394, 'Ras superfamily': 0.47258413, 'Motility': 0.45373338, 'PAK1': 0.41652244, \"GTP'\": 0.13017502, 'Protein–protein interaction': 0.5678463, 'Stop codon': 0.53317696, 'Two-hybrid screening': 0.4195432, 'Midbody': 0.43695918, 'Serine': 0.41622093, 'Meiosis': 0.54535687, 'Art': 0.43195528, 'History': 0.32317317}\n",
      "####### {'ID': '0000-0001-5913-890X', 'Count DOI:': 3, 'Chemistry': 0.5399162166666667, 'Adsorption': 0.5943032, 'Stereochemistry': 0.36615938, 'Computational chemistry': 0.36480123, 'Combinatorial chemistry': 0.34137857, 'Organic chemistry': 0.264814975, 'Copolymer': 0.78494835, 'Lamellar structure': 0.7377665, 'Materials science': 0.5376174, 'Polymer chemistry': 0.5637448, 'Thin film': 0.5155604, 'Amorphous solid': 0.4599146, 'Chemical engineering': 0.3678163, 'Crystallography': 0.32824691, 'Composite material': 0.18086538, 'Polymer': 0.3492428, 'Nanotechnology': 0.122658074, 'Engineering': 0.0, 'Benzenesulfonic acid': 0.68428814, 'Supramolecular chemistry': 0.6662451, 'Tris': 0.58528775, 'Mesogen': 0.4720745, 'Heuristics': 0.45751092, 'Phase (matter)': 0.45386788, 'Liquid crystalline': 0.18669835, 'Computer science': 0.15704039, 'Crystal structure': 0.094555885, 'Biochemistry': 0.05934176, 'Operating system': 0.0}\n"
     ]
    },
    {
     "ename": "KeyboardInterrupt",
     "evalue": "",
     "output_type": "error",
     "traceback": [
      "\u001b[1;31m---------------------------------------------------------------------------\u001b[0m",
      "\u001b[1;31mKeyboardInterrupt\u001b[0m                         Traceback (most recent call last)",
      "\u001b[1;32m~\\AppData\\Local\\Temp\\ipykernel_7192\\2935718928.py\u001b[0m in \u001b[0;36m<module>\u001b[1;34m\u001b[0m\n\u001b[0;32m      5\u001b[0m \u001b[0mlist_experts\u001b[0m\u001b[1;33m=\u001b[0m\u001b[1;33m[\u001b[0m\u001b[1;33m]\u001b[0m\u001b[1;33m\u001b[0m\u001b[1;33m\u001b[0m\u001b[0m\n\u001b[0;32m      6\u001b[0m \u001b[1;32mfor\u001b[0m \u001b[0mitem\u001b[0m \u001b[1;32min\u001b[0m \u001b[0mlist_of_ids\u001b[0m\u001b[1;33m:\u001b[0m\u001b[1;33m\u001b[0m\u001b[1;33m\u001b[0m\u001b[0m\n\u001b[1;32m----> 7\u001b[1;33m     \u001b[0mmain_search\u001b[0m\u001b[1;33m(\u001b[0m\u001b[0mitem\u001b[0m\u001b[1;33m)\u001b[0m\u001b[1;33m\u001b[0m\u001b[1;33m\u001b[0m\u001b[0m\n\u001b[0m\u001b[0;32m      8\u001b[0m \u001b[0mprint\u001b[0m\u001b[1;33m(\u001b[0m\u001b[1;34m'###################################################'\u001b[0m\u001b[1;33m)\u001b[0m\u001b[1;33m\u001b[0m\u001b[1;33m\u001b[0m\u001b[0m\n\u001b[0;32m      9\u001b[0m \u001b[0mprint\u001b[0m\u001b[1;33m(\u001b[0m\u001b[1;34m'######### Error Count:'\u001b[0m\u001b[1;33m,\u001b[0m\u001b[0mError_count\u001b[0m\u001b[1;33m,\u001b[0m \u001b[1;34m'#############'\u001b[0m\u001b[1;33m)\u001b[0m\u001b[1;33m\u001b[0m\u001b[1;33m\u001b[0m\u001b[0m\n",
      "\u001b[1;32m~\\AppData\\Local\\Temp\\ipykernel_7192\\1019771968.py\u001b[0m in \u001b[0;36mmain_search\u001b[1;34m(orcid)\u001b[0m\n\u001b[0;32m     17\u001b[0m     \u001b[0mcount_doi\u001b[0m\u001b[1;33m=\u001b[0m\u001b[1;36m0\u001b[0m\u001b[1;33m\u001b[0m\u001b[1;33m\u001b[0m\u001b[0m\n\u001b[0;32m     18\u001b[0m     \u001b[0mlist_of_pages\u001b[0m\u001b[1;33m=\u001b[0m\u001b[0mquery_openalex_for_person2works\u001b[0m\u001b[1;33m(\u001b[0m\u001b[0morcid\u001b[0m\u001b[1;33m)\u001b[0m\u001b[1;33m\u001b[0m\u001b[1;33m\u001b[0m\u001b[0m\n\u001b[1;32m---> 19\u001b[1;33m     \u001b[1;32mfor\u001b[0m \u001b[0mpage\u001b[0m \u001b[1;32min\u001b[0m \u001b[0mlist_of_pages\u001b[0m \u001b[1;32mor\u001b[0m \u001b[1;33m[\u001b[0m\u001b[1;33m]\u001b[0m\u001b[1;33m:\u001b[0m\u001b[1;33m\u001b[0m\u001b[1;33m\u001b[0m\u001b[0m\n\u001b[0m\u001b[0;32m     20\u001b[0m         \u001b[0mworks\u001b[0m\u001b[1;33m=\u001b[0m\u001b[0mextract_works_from_page\u001b[0m\u001b[1;33m(\u001b[0m\u001b[0mpage\u001b[0m\u001b[1;33m)\u001b[0m\u001b[1;33m\u001b[0m\u001b[1;33m\u001b[0m\u001b[0m\n\u001b[0;32m     21\u001b[0m         \u001b[1;32mfor\u001b[0m \u001b[0mwork\u001b[0m \u001b[1;32min\u001b[0m \u001b[0mworks\u001b[0m \u001b[1;32mor\u001b[0m \u001b[1;33m[\u001b[0m\u001b[1;33m]\u001b[0m\u001b[1;33m:\u001b[0m\u001b[1;33m\u001b[0m\u001b[1;33m\u001b[0m\u001b[0m\n",
      "\u001b[1;32m~\\AppData\\Local\\Temp\\ipykernel_7192\\2475129585.py\u001b[0m in \u001b[0;36mquery_openalex_for_person2works\u001b[1;34m(orcid)\u001b[0m\n\u001b[0;32m      9\u001b[0m     \u001b[1;32mwhile\u001b[0m \u001b[0mpage\u001b[0m \u001b[1;33m<=\u001b[0m \u001b[0mmax_page\u001b[0m\u001b[1;33m:\u001b[0m\u001b[1;33m\u001b[0m\u001b[1;33m\u001b[0m\u001b[0m\n\u001b[0;32m     10\u001b[0m         \u001b[0mparams\u001b[0m \u001b[1;33m=\u001b[0m \u001b[1;33m{\u001b[0m\u001b[1;34m'filter'\u001b[0m\u001b[1;33m:\u001b[0m \u001b[1;34m'authorships.author.orcid:'\u001b[0m\u001b[1;33m+\u001b[0m\u001b[0morcid\u001b[0m\u001b[1;33m,\u001b[0m \u001b[1;34m'page'\u001b[0m\u001b[1;33m:\u001b[0m \u001b[0mpage\u001b[0m\u001b[1;33m}\u001b[0m\u001b[1;33m\u001b[0m\u001b[1;33m\u001b[0m\u001b[0m\n\u001b[1;32m---> 11\u001b[1;33m         response = requests.get(url=OPENALEX_API_WORKS,\n\u001b[0m\u001b[0;32m     12\u001b[0m                                 \u001b[0mparams\u001b[0m\u001b[1;33m=\u001b[0m\u001b[0mparams\u001b[0m\u001b[1;33m,\u001b[0m\u001b[1;33m\u001b[0m\u001b[1;33m\u001b[0m\u001b[0m\n\u001b[0;32m     13\u001b[0m                                 headers= {'Accept': 'application/json'})\n",
      "\u001b[1;32m~\\Anaconda3\\lib\\site-packages\\requests\\api.py\u001b[0m in \u001b[0;36mget\u001b[1;34m(url, params, **kwargs)\u001b[0m\n\u001b[0;32m     71\u001b[0m     \"\"\"\n\u001b[0;32m     72\u001b[0m \u001b[1;33m\u001b[0m\u001b[0m\n\u001b[1;32m---> 73\u001b[1;33m     \u001b[1;32mreturn\u001b[0m \u001b[0mrequest\u001b[0m\u001b[1;33m(\u001b[0m\u001b[1;34m\"get\"\u001b[0m\u001b[1;33m,\u001b[0m \u001b[0murl\u001b[0m\u001b[1;33m,\u001b[0m \u001b[0mparams\u001b[0m\u001b[1;33m=\u001b[0m\u001b[0mparams\u001b[0m\u001b[1;33m,\u001b[0m \u001b[1;33m**\u001b[0m\u001b[0mkwargs\u001b[0m\u001b[1;33m)\u001b[0m\u001b[1;33m\u001b[0m\u001b[1;33m\u001b[0m\u001b[0m\n\u001b[0m\u001b[0;32m     74\u001b[0m \u001b[1;33m\u001b[0m\u001b[0m\n\u001b[0;32m     75\u001b[0m \u001b[1;33m\u001b[0m\u001b[0m\n",
      "\u001b[1;32m~\\Anaconda3\\lib\\site-packages\\requests\\api.py\u001b[0m in \u001b[0;36mrequest\u001b[1;34m(method, url, **kwargs)\u001b[0m\n\u001b[0;32m     57\u001b[0m     \u001b[1;31m# cases, and look like a memory leak in others.\u001b[0m\u001b[1;33m\u001b[0m\u001b[1;33m\u001b[0m\u001b[0m\n\u001b[0;32m     58\u001b[0m     \u001b[1;32mwith\u001b[0m \u001b[0msessions\u001b[0m\u001b[1;33m.\u001b[0m\u001b[0mSession\u001b[0m\u001b[1;33m(\u001b[0m\u001b[1;33m)\u001b[0m \u001b[1;32mas\u001b[0m \u001b[0msession\u001b[0m\u001b[1;33m:\u001b[0m\u001b[1;33m\u001b[0m\u001b[1;33m\u001b[0m\u001b[0m\n\u001b[1;32m---> 59\u001b[1;33m         \u001b[1;32mreturn\u001b[0m \u001b[0msession\u001b[0m\u001b[1;33m.\u001b[0m\u001b[0mrequest\u001b[0m\u001b[1;33m(\u001b[0m\u001b[0mmethod\u001b[0m\u001b[1;33m=\u001b[0m\u001b[0mmethod\u001b[0m\u001b[1;33m,\u001b[0m \u001b[0murl\u001b[0m\u001b[1;33m=\u001b[0m\u001b[0murl\u001b[0m\u001b[1;33m,\u001b[0m \u001b[1;33m**\u001b[0m\u001b[0mkwargs\u001b[0m\u001b[1;33m)\u001b[0m\u001b[1;33m\u001b[0m\u001b[1;33m\u001b[0m\u001b[0m\n\u001b[0m\u001b[0;32m     60\u001b[0m \u001b[1;33m\u001b[0m\u001b[0m\n\u001b[0;32m     61\u001b[0m \u001b[1;33m\u001b[0m\u001b[0m\n",
      "\u001b[1;32m~\\Anaconda3\\lib\\site-packages\\requests\\sessions.py\u001b[0m in \u001b[0;36mrequest\u001b[1;34m(self, method, url, params, data, headers, cookies, files, auth, timeout, allow_redirects, proxies, hooks, stream, verify, cert, json)\u001b[0m\n\u001b[0;32m    585\u001b[0m         }\n\u001b[0;32m    586\u001b[0m         \u001b[0msend_kwargs\u001b[0m\u001b[1;33m.\u001b[0m\u001b[0mupdate\u001b[0m\u001b[1;33m(\u001b[0m\u001b[0msettings\u001b[0m\u001b[1;33m)\u001b[0m\u001b[1;33m\u001b[0m\u001b[1;33m\u001b[0m\u001b[0m\n\u001b[1;32m--> 587\u001b[1;33m         \u001b[0mresp\u001b[0m \u001b[1;33m=\u001b[0m \u001b[0mself\u001b[0m\u001b[1;33m.\u001b[0m\u001b[0msend\u001b[0m\u001b[1;33m(\u001b[0m\u001b[0mprep\u001b[0m\u001b[1;33m,\u001b[0m \u001b[1;33m**\u001b[0m\u001b[0msend_kwargs\u001b[0m\u001b[1;33m)\u001b[0m\u001b[1;33m\u001b[0m\u001b[1;33m\u001b[0m\u001b[0m\n\u001b[0m\u001b[0;32m    588\u001b[0m \u001b[1;33m\u001b[0m\u001b[0m\n\u001b[0;32m    589\u001b[0m         \u001b[1;32mreturn\u001b[0m \u001b[0mresp\u001b[0m\u001b[1;33m\u001b[0m\u001b[1;33m\u001b[0m\u001b[0m\n",
      "\u001b[1;32m~\\Anaconda3\\lib\\site-packages\\requests\\sessions.py\u001b[0m in \u001b[0;36msend\u001b[1;34m(self, request, **kwargs)\u001b[0m\n\u001b[0;32m    743\u001b[0m \u001b[1;33m\u001b[0m\u001b[0m\n\u001b[0;32m    744\u001b[0m         \u001b[1;32mif\u001b[0m \u001b[1;32mnot\u001b[0m \u001b[0mstream\u001b[0m\u001b[1;33m:\u001b[0m\u001b[1;33m\u001b[0m\u001b[1;33m\u001b[0m\u001b[0m\n\u001b[1;32m--> 745\u001b[1;33m             \u001b[0mr\u001b[0m\u001b[1;33m.\u001b[0m\u001b[0mcontent\u001b[0m\u001b[1;33m\u001b[0m\u001b[1;33m\u001b[0m\u001b[0m\n\u001b[0m\u001b[0;32m    746\u001b[0m \u001b[1;33m\u001b[0m\u001b[0m\n\u001b[0;32m    747\u001b[0m         \u001b[1;32mreturn\u001b[0m \u001b[0mr\u001b[0m\u001b[1;33m\u001b[0m\u001b[1;33m\u001b[0m\u001b[0m\n",
      "\u001b[1;32m~\\Anaconda3\\lib\\site-packages\\requests\\models.py\u001b[0m in \u001b[0;36mcontent\u001b[1;34m(self)\u001b[0m\n\u001b[0;32m    897\u001b[0m                 \u001b[0mself\u001b[0m\u001b[1;33m.\u001b[0m\u001b[0m_content\u001b[0m \u001b[1;33m=\u001b[0m \u001b[1;32mNone\u001b[0m\u001b[1;33m\u001b[0m\u001b[1;33m\u001b[0m\u001b[0m\n\u001b[0;32m    898\u001b[0m             \u001b[1;32melse\u001b[0m\u001b[1;33m:\u001b[0m\u001b[1;33m\u001b[0m\u001b[1;33m\u001b[0m\u001b[0m\n\u001b[1;32m--> 899\u001b[1;33m                 \u001b[0mself\u001b[0m\u001b[1;33m.\u001b[0m\u001b[0m_content\u001b[0m \u001b[1;33m=\u001b[0m \u001b[1;34mb\"\"\u001b[0m\u001b[1;33m.\u001b[0m\u001b[0mjoin\u001b[0m\u001b[1;33m(\u001b[0m\u001b[0mself\u001b[0m\u001b[1;33m.\u001b[0m\u001b[0miter_content\u001b[0m\u001b[1;33m(\u001b[0m\u001b[0mCONTENT_CHUNK_SIZE\u001b[0m\u001b[1;33m)\u001b[0m\u001b[1;33m)\u001b[0m \u001b[1;32mor\u001b[0m \u001b[1;34mb\"\"\u001b[0m\u001b[1;33m\u001b[0m\u001b[1;33m\u001b[0m\u001b[0m\n\u001b[0m\u001b[0;32m    900\u001b[0m \u001b[1;33m\u001b[0m\u001b[0m\n\u001b[0;32m    901\u001b[0m         \u001b[0mself\u001b[0m\u001b[1;33m.\u001b[0m\u001b[0m_content_consumed\u001b[0m \u001b[1;33m=\u001b[0m \u001b[1;32mTrue\u001b[0m\u001b[1;33m\u001b[0m\u001b[1;33m\u001b[0m\u001b[0m\n",
      "\u001b[1;32m~\\Anaconda3\\lib\\site-packages\\requests\\models.py\u001b[0m in \u001b[0;36mgenerate\u001b[1;34m()\u001b[0m\n\u001b[0;32m    814\u001b[0m             \u001b[1;32mif\u001b[0m \u001b[0mhasattr\u001b[0m\u001b[1;33m(\u001b[0m\u001b[0mself\u001b[0m\u001b[1;33m.\u001b[0m\u001b[0mraw\u001b[0m\u001b[1;33m,\u001b[0m \u001b[1;34m\"stream\"\u001b[0m\u001b[1;33m)\u001b[0m\u001b[1;33m:\u001b[0m\u001b[1;33m\u001b[0m\u001b[1;33m\u001b[0m\u001b[0m\n\u001b[0;32m    815\u001b[0m                 \u001b[1;32mtry\u001b[0m\u001b[1;33m:\u001b[0m\u001b[1;33m\u001b[0m\u001b[1;33m\u001b[0m\u001b[0m\n\u001b[1;32m--> 816\u001b[1;33m                     \u001b[1;32myield\u001b[0m \u001b[1;32mfrom\u001b[0m \u001b[0mself\u001b[0m\u001b[1;33m.\u001b[0m\u001b[0mraw\u001b[0m\u001b[1;33m.\u001b[0m\u001b[0mstream\u001b[0m\u001b[1;33m(\u001b[0m\u001b[0mchunk_size\u001b[0m\u001b[1;33m,\u001b[0m \u001b[0mdecode_content\u001b[0m\u001b[1;33m=\u001b[0m\u001b[1;32mTrue\u001b[0m\u001b[1;33m)\u001b[0m\u001b[1;33m\u001b[0m\u001b[1;33m\u001b[0m\u001b[0m\n\u001b[0m\u001b[0;32m    817\u001b[0m                 \u001b[1;32mexcept\u001b[0m \u001b[0mProtocolError\u001b[0m \u001b[1;32mas\u001b[0m \u001b[0me\u001b[0m\u001b[1;33m:\u001b[0m\u001b[1;33m\u001b[0m\u001b[1;33m\u001b[0m\u001b[0m\n\u001b[0;32m    818\u001b[0m                     \u001b[1;32mraise\u001b[0m \u001b[0mChunkedEncodingError\u001b[0m\u001b[1;33m(\u001b[0m\u001b[0me\u001b[0m\u001b[1;33m)\u001b[0m\u001b[1;33m\u001b[0m\u001b[1;33m\u001b[0m\u001b[0m\n",
      "\u001b[1;32m~\\Anaconda3\\lib\\site-packages\\urllib3\\response.py\u001b[0m in \u001b[0;36mstream\u001b[1;34m(self, amt, decode_content)\u001b[0m\n\u001b[0;32m    625\u001b[0m         \u001b[1;32melse\u001b[0m\u001b[1;33m:\u001b[0m\u001b[1;33m\u001b[0m\u001b[1;33m\u001b[0m\u001b[0m\n\u001b[0;32m    626\u001b[0m             \u001b[1;32mwhile\u001b[0m \u001b[1;32mnot\u001b[0m \u001b[0mis_fp_closed\u001b[0m\u001b[1;33m(\u001b[0m\u001b[0mself\u001b[0m\u001b[1;33m.\u001b[0m\u001b[0m_fp\u001b[0m\u001b[1;33m)\u001b[0m\u001b[1;33m:\u001b[0m\u001b[1;33m\u001b[0m\u001b[1;33m\u001b[0m\u001b[0m\n\u001b[1;32m--> 627\u001b[1;33m                 \u001b[0mdata\u001b[0m \u001b[1;33m=\u001b[0m \u001b[0mself\u001b[0m\u001b[1;33m.\u001b[0m\u001b[0mread\u001b[0m\u001b[1;33m(\u001b[0m\u001b[0mamt\u001b[0m\u001b[1;33m=\u001b[0m\u001b[0mamt\u001b[0m\u001b[1;33m,\u001b[0m \u001b[0mdecode_content\u001b[0m\u001b[1;33m=\u001b[0m\u001b[0mdecode_content\u001b[0m\u001b[1;33m)\u001b[0m\u001b[1;33m\u001b[0m\u001b[1;33m\u001b[0m\u001b[0m\n\u001b[0m\u001b[0;32m    628\u001b[0m \u001b[1;33m\u001b[0m\u001b[0m\n\u001b[0;32m    629\u001b[0m                 \u001b[1;32mif\u001b[0m \u001b[0mdata\u001b[0m\u001b[1;33m:\u001b[0m\u001b[1;33m\u001b[0m\u001b[1;33m\u001b[0m\u001b[0m\n",
      "\u001b[1;32m~\\Anaconda3\\lib\\site-packages\\urllib3\\response.py\u001b[0m in \u001b[0;36mread\u001b[1;34m(self, amt, decode_content, cache_content)\u001b[0m\n\u001b[0;32m    564\u001b[0m \u001b[1;33m\u001b[0m\u001b[0m\n\u001b[0;32m    565\u001b[0m         \u001b[1;32mwith\u001b[0m \u001b[0mself\u001b[0m\u001b[1;33m.\u001b[0m\u001b[0m_error_catcher\u001b[0m\u001b[1;33m(\u001b[0m\u001b[1;33m)\u001b[0m\u001b[1;33m:\u001b[0m\u001b[1;33m\u001b[0m\u001b[1;33m\u001b[0m\u001b[0m\n\u001b[1;32m--> 566\u001b[1;33m             \u001b[0mdata\u001b[0m \u001b[1;33m=\u001b[0m \u001b[0mself\u001b[0m\u001b[1;33m.\u001b[0m\u001b[0m_fp_read\u001b[0m\u001b[1;33m(\u001b[0m\u001b[0mamt\u001b[0m\u001b[1;33m)\u001b[0m \u001b[1;32mif\u001b[0m \u001b[1;32mnot\u001b[0m \u001b[0mfp_closed\u001b[0m \u001b[1;32melse\u001b[0m \u001b[1;34mb\"\"\u001b[0m\u001b[1;33m\u001b[0m\u001b[1;33m\u001b[0m\u001b[0m\n\u001b[0m\u001b[0;32m    567\u001b[0m             \u001b[1;32mif\u001b[0m \u001b[0mamt\u001b[0m \u001b[1;32mis\u001b[0m \u001b[1;32mNone\u001b[0m\u001b[1;33m:\u001b[0m\u001b[1;33m\u001b[0m\u001b[1;33m\u001b[0m\u001b[0m\n\u001b[0;32m    568\u001b[0m                 \u001b[0mflush_decoder\u001b[0m \u001b[1;33m=\u001b[0m \u001b[1;32mTrue\u001b[0m\u001b[1;33m\u001b[0m\u001b[1;33m\u001b[0m\u001b[0m\n",
      "\u001b[1;32m~\\Anaconda3\\lib\\site-packages\\urllib3\\response.py\u001b[0m in \u001b[0;36m_fp_read\u001b[1;34m(self, amt)\u001b[0m\n\u001b[0;32m    530\u001b[0m         \u001b[1;32melse\u001b[0m\u001b[1;33m:\u001b[0m\u001b[1;33m\u001b[0m\u001b[1;33m\u001b[0m\u001b[0m\n\u001b[0;32m    531\u001b[0m             \u001b[1;31m# StringIO doesn't like amt=None\u001b[0m\u001b[1;33m\u001b[0m\u001b[1;33m\u001b[0m\u001b[0m\n\u001b[1;32m--> 532\u001b[1;33m             \u001b[1;32mreturn\u001b[0m \u001b[0mself\u001b[0m\u001b[1;33m.\u001b[0m\u001b[0m_fp\u001b[0m\u001b[1;33m.\u001b[0m\u001b[0mread\u001b[0m\u001b[1;33m(\u001b[0m\u001b[0mamt\u001b[0m\u001b[1;33m)\u001b[0m \u001b[1;32mif\u001b[0m \u001b[0mamt\u001b[0m \u001b[1;32mis\u001b[0m \u001b[1;32mnot\u001b[0m \u001b[1;32mNone\u001b[0m \u001b[1;32melse\u001b[0m \u001b[0mself\u001b[0m\u001b[1;33m.\u001b[0m\u001b[0m_fp\u001b[0m\u001b[1;33m.\u001b[0m\u001b[0mread\u001b[0m\u001b[1;33m(\u001b[0m\u001b[1;33m)\u001b[0m\u001b[1;33m\u001b[0m\u001b[1;33m\u001b[0m\u001b[0m\n\u001b[0m\u001b[0;32m    533\u001b[0m \u001b[1;33m\u001b[0m\u001b[0m\n\u001b[0;32m    534\u001b[0m     \u001b[1;32mdef\u001b[0m \u001b[0mread\u001b[0m\u001b[1;33m(\u001b[0m\u001b[0mself\u001b[0m\u001b[1;33m,\u001b[0m \u001b[0mamt\u001b[0m\u001b[1;33m=\u001b[0m\u001b[1;32mNone\u001b[0m\u001b[1;33m,\u001b[0m \u001b[0mdecode_content\u001b[0m\u001b[1;33m=\u001b[0m\u001b[1;32mNone\u001b[0m\u001b[1;33m,\u001b[0m \u001b[0mcache_content\u001b[0m\u001b[1;33m=\u001b[0m\u001b[1;32mFalse\u001b[0m\u001b[1;33m)\u001b[0m\u001b[1;33m:\u001b[0m\u001b[1;33m\u001b[0m\u001b[1;33m\u001b[0m\u001b[0m\n",
      "\u001b[1;32m~\\Anaconda3\\lib\\http\\client.py\u001b[0m in \u001b[0;36mread\u001b[1;34m(self, amt)\u001b[0m\n\u001b[0;32m    461\u001b[0m             \u001b[1;31m# Amount is given, implement using readinto\u001b[0m\u001b[1;33m\u001b[0m\u001b[1;33m\u001b[0m\u001b[0m\n\u001b[0;32m    462\u001b[0m             \u001b[0mb\u001b[0m \u001b[1;33m=\u001b[0m \u001b[0mbytearray\u001b[0m\u001b[1;33m(\u001b[0m\u001b[0mamt\u001b[0m\u001b[1;33m)\u001b[0m\u001b[1;33m\u001b[0m\u001b[1;33m\u001b[0m\u001b[0m\n\u001b[1;32m--> 463\u001b[1;33m             \u001b[0mn\u001b[0m \u001b[1;33m=\u001b[0m \u001b[0mself\u001b[0m\u001b[1;33m.\u001b[0m\u001b[0mreadinto\u001b[0m\u001b[1;33m(\u001b[0m\u001b[0mb\u001b[0m\u001b[1;33m)\u001b[0m\u001b[1;33m\u001b[0m\u001b[1;33m\u001b[0m\u001b[0m\n\u001b[0m\u001b[0;32m    464\u001b[0m             \u001b[1;32mreturn\u001b[0m \u001b[0mmemoryview\u001b[0m\u001b[1;33m(\u001b[0m\u001b[0mb\u001b[0m\u001b[1;33m)\u001b[0m\u001b[1;33m[\u001b[0m\u001b[1;33m:\u001b[0m\u001b[0mn\u001b[0m\u001b[1;33m]\u001b[0m\u001b[1;33m.\u001b[0m\u001b[0mtobytes\u001b[0m\u001b[1;33m(\u001b[0m\u001b[1;33m)\u001b[0m\u001b[1;33m\u001b[0m\u001b[1;33m\u001b[0m\u001b[0m\n\u001b[0;32m    465\u001b[0m         \u001b[1;32melse\u001b[0m\u001b[1;33m:\u001b[0m\u001b[1;33m\u001b[0m\u001b[1;33m\u001b[0m\u001b[0m\n",
      "\u001b[1;32m~\\Anaconda3\\lib\\http\\client.py\u001b[0m in \u001b[0;36mreadinto\u001b[1;34m(self, b)\u001b[0m\n\u001b[0;32m    505\u001b[0m         \u001b[1;31m# connection, and the user is reading more bytes than will be provided\u001b[0m\u001b[1;33m\u001b[0m\u001b[1;33m\u001b[0m\u001b[0m\n\u001b[0;32m    506\u001b[0m         \u001b[1;31m# (for example, reading in 1k chunks)\u001b[0m\u001b[1;33m\u001b[0m\u001b[1;33m\u001b[0m\u001b[0m\n\u001b[1;32m--> 507\u001b[1;33m         \u001b[0mn\u001b[0m \u001b[1;33m=\u001b[0m \u001b[0mself\u001b[0m\u001b[1;33m.\u001b[0m\u001b[0mfp\u001b[0m\u001b[1;33m.\u001b[0m\u001b[0mreadinto\u001b[0m\u001b[1;33m(\u001b[0m\u001b[0mb\u001b[0m\u001b[1;33m)\u001b[0m\u001b[1;33m\u001b[0m\u001b[1;33m\u001b[0m\u001b[0m\n\u001b[0m\u001b[0;32m    508\u001b[0m         \u001b[1;32mif\u001b[0m \u001b[1;32mnot\u001b[0m \u001b[0mn\u001b[0m \u001b[1;32mand\u001b[0m \u001b[0mb\u001b[0m\u001b[1;33m:\u001b[0m\u001b[1;33m\u001b[0m\u001b[1;33m\u001b[0m\u001b[0m\n\u001b[0;32m    509\u001b[0m             \u001b[1;31m# Ideally, we would raise IncompleteRead if the content-length\u001b[0m\u001b[1;33m\u001b[0m\u001b[1;33m\u001b[0m\u001b[0m\n",
      "\u001b[1;32m~\\Anaconda3\\lib\\socket.py\u001b[0m in \u001b[0;36mreadinto\u001b[1;34m(self, b)\u001b[0m\n\u001b[0;32m    702\u001b[0m         \u001b[1;32mwhile\u001b[0m \u001b[1;32mTrue\u001b[0m\u001b[1;33m:\u001b[0m\u001b[1;33m\u001b[0m\u001b[1;33m\u001b[0m\u001b[0m\n\u001b[0;32m    703\u001b[0m             \u001b[1;32mtry\u001b[0m\u001b[1;33m:\u001b[0m\u001b[1;33m\u001b[0m\u001b[1;33m\u001b[0m\u001b[0m\n\u001b[1;32m--> 704\u001b[1;33m                 \u001b[1;32mreturn\u001b[0m \u001b[0mself\u001b[0m\u001b[1;33m.\u001b[0m\u001b[0m_sock\u001b[0m\u001b[1;33m.\u001b[0m\u001b[0mrecv_into\u001b[0m\u001b[1;33m(\u001b[0m\u001b[0mb\u001b[0m\u001b[1;33m)\u001b[0m\u001b[1;33m\u001b[0m\u001b[1;33m\u001b[0m\u001b[0m\n\u001b[0m\u001b[0;32m    705\u001b[0m             \u001b[1;32mexcept\u001b[0m \u001b[0mtimeout\u001b[0m\u001b[1;33m:\u001b[0m\u001b[1;33m\u001b[0m\u001b[1;33m\u001b[0m\u001b[0m\n\u001b[0;32m    706\u001b[0m                 \u001b[0mself\u001b[0m\u001b[1;33m.\u001b[0m\u001b[0m_timeout_occurred\u001b[0m \u001b[1;33m=\u001b[0m \u001b[1;32mTrue\u001b[0m\u001b[1;33m\u001b[0m\u001b[1;33m\u001b[0m\u001b[0m\n",
      "\u001b[1;32m~\\Anaconda3\\lib\\ssl.py\u001b[0m in \u001b[0;36mrecv_into\u001b[1;34m(self, buffer, nbytes, flags)\u001b[0m\n\u001b[0;32m   1240\u001b[0m                   \u001b[1;34m\"non-zero flags not allowed in calls to recv_into() on %s\"\u001b[0m \u001b[1;33m%\u001b[0m\u001b[1;33m\u001b[0m\u001b[1;33m\u001b[0m\u001b[0m\n\u001b[0;32m   1241\u001b[0m                   self.__class__)\n\u001b[1;32m-> 1242\u001b[1;33m             \u001b[1;32mreturn\u001b[0m \u001b[0mself\u001b[0m\u001b[1;33m.\u001b[0m\u001b[0mread\u001b[0m\u001b[1;33m(\u001b[0m\u001b[0mnbytes\u001b[0m\u001b[1;33m,\u001b[0m \u001b[0mbuffer\u001b[0m\u001b[1;33m)\u001b[0m\u001b[1;33m\u001b[0m\u001b[1;33m\u001b[0m\u001b[0m\n\u001b[0m\u001b[0;32m   1243\u001b[0m         \u001b[1;32melse\u001b[0m\u001b[1;33m:\u001b[0m\u001b[1;33m\u001b[0m\u001b[1;33m\u001b[0m\u001b[0m\n\u001b[0;32m   1244\u001b[0m             \u001b[1;32mreturn\u001b[0m \u001b[0msuper\u001b[0m\u001b[1;33m(\u001b[0m\u001b[1;33m)\u001b[0m\u001b[1;33m.\u001b[0m\u001b[0mrecv_into\u001b[0m\u001b[1;33m(\u001b[0m\u001b[0mbuffer\u001b[0m\u001b[1;33m,\u001b[0m \u001b[0mnbytes\u001b[0m\u001b[1;33m,\u001b[0m \u001b[0mflags\u001b[0m\u001b[1;33m)\u001b[0m\u001b[1;33m\u001b[0m\u001b[1;33m\u001b[0m\u001b[0m\n",
      "\u001b[1;32m~\\Anaconda3\\lib\\ssl.py\u001b[0m in \u001b[0;36mread\u001b[1;34m(self, len, buffer)\u001b[0m\n\u001b[0;32m   1098\u001b[0m         \u001b[1;32mtry\u001b[0m\u001b[1;33m:\u001b[0m\u001b[1;33m\u001b[0m\u001b[1;33m\u001b[0m\u001b[0m\n\u001b[0;32m   1099\u001b[0m             \u001b[1;32mif\u001b[0m \u001b[0mbuffer\u001b[0m \u001b[1;32mis\u001b[0m \u001b[1;32mnot\u001b[0m \u001b[1;32mNone\u001b[0m\u001b[1;33m:\u001b[0m\u001b[1;33m\u001b[0m\u001b[1;33m\u001b[0m\u001b[0m\n\u001b[1;32m-> 1100\u001b[1;33m                 \u001b[1;32mreturn\u001b[0m \u001b[0mself\u001b[0m\u001b[1;33m.\u001b[0m\u001b[0m_sslobj\u001b[0m\u001b[1;33m.\u001b[0m\u001b[0mread\u001b[0m\u001b[1;33m(\u001b[0m\u001b[0mlen\u001b[0m\u001b[1;33m,\u001b[0m \u001b[0mbuffer\u001b[0m\u001b[1;33m)\u001b[0m\u001b[1;33m\u001b[0m\u001b[1;33m\u001b[0m\u001b[0m\n\u001b[0m\u001b[0;32m   1101\u001b[0m             \u001b[1;32melse\u001b[0m\u001b[1;33m:\u001b[0m\u001b[1;33m\u001b[0m\u001b[1;33m\u001b[0m\u001b[0m\n\u001b[0;32m   1102\u001b[0m                 \u001b[1;32mreturn\u001b[0m \u001b[0mself\u001b[0m\u001b[1;33m.\u001b[0m\u001b[0m_sslobj\u001b[0m\u001b[1;33m.\u001b[0m\u001b[0mread\u001b[0m\u001b[1;33m(\u001b[0m\u001b[0mlen\u001b[0m\u001b[1;33m)\u001b[0m\u001b[1;33m\u001b[0m\u001b[1;33m\u001b[0m\u001b[0m\n",
      "\u001b[1;31mKeyboardInterrupt\u001b[0m: "
     ]
    }
   ],
   "source": [
    "# main programm:\n",
    "global Error_count\n",
    "Error_count=0\n",
    "global list_experts\n",
    "list_experts=[]\n",
    "for item in list_of_ids:\n",
    "    main_search(item) \n",
    "print('###################################################')\n",
    "print('######### Error Count:',Error_count, '#############')\n",
    "print('Fach:', Fachsuche)\n",
    "print('###################################################')\n",
    "print('# Anzahl der Experten:', len(list_experts))\n",
    "print('# Expertenliste inkl. scores:',list_experts)"
   ]
  },
  {
   "cell_type": "code",
   "execution_count": null,
   "id": "987d822b",
   "metadata": {},
   "outputs": [],
   "source": []
  }
 ],
 "metadata": {
  "colab": {
   "collapsed_sections": [],
   "name": "openalex_get_works_by_person.ipynb",
   "provenance": [
    {
     "file_id": "https://github.com/TAPIR-TIB/pidgraph-notebooks/blob/person-works/person-works/openalex_get_works_by_person.ipynb",
     "timestamp": 1643058224827
    },
    {
     "file_id": "https://github.com/TAPIR-TIB/pidgraph-notebooks/blob/person-works/person-works/openalex_get_works_by_person.ipynb",
     "timestamp": 1643040475251
    },
    {
     "file_id": "1neSGbKlkQwjOYX77kpGK14BqT4KpCei0",
     "timestamp": 1643025949695
    }
   ]
  },
  "kernelspec": {
   "display_name": "Python 3 (ipykernel)",
   "language": "python",
   "name": "python3"
  },
  "language_info": {
   "codemirror_mode": {
    "name": "ipython",
    "version": 3
   },
   "file_extension": ".py",
   "mimetype": "text/x-python",
   "name": "python",
   "nbconvert_exporter": "python",
   "pygments_lexer": "ipython3",
   "version": "3.9.13"
  }
 },
 "nbformat": 4,
 "nbformat_minor": 5
}
